{
 "cells": [
  {
   "cell_type": "markdown",
   "metadata": {},
   "source": [
    "# Exploring ODF Extraction - Data Analysis\n",
    "## Sam Potter\n",
    "## Current: 4/15/19"
   ]
  },
  {
   "cell_type": "markdown",
   "metadata": {},
   "source": [
    "## Path and Imports"
   ]
  },
  {
   "cell_type": "code",
   "execution_count": null,
   "metadata": {
    "scrolled": false
   },
   "outputs": [],
   "source": [
    "import sys\n",
    "import os\n",
    "\n",
    "# psfdi\n",
    "sys.path.extend(['C:\\\\Users\\\\potterst1\\\\Desktop\\Repositories\\Github\\psfdi',\n",
    "                 'C:/Users/potterst1/Desktop/Repositories/Github/psfdi'])\n",
    "sys.path.extend(['/workspace/stpotter/git/bitbucket/psfdi'])\n",
    "\n",
    "from psfdi import visualize\n",
    "from psfdi import fileIO\n",
    "from matplotlib import pyplot as plt\n",
    "import numpy as np\n",
    "from mpl_toolkits.axes_grid1 import make_axes_locatable\n",
    "from matplotlib import patches\n",
    "from matplotlib import rc\n",
    "from psfdi import utilities\n",
    "from psfdi import odf\n",
    "from psfdi import image_processing as imp\n",
    "import seaborn as sns\n",
    "import cv2\n",
    "import matplotlib\n",
    "\n",
    "from ipywidgets import *\n",
    "from scipy import optimize as sciopt\n",
    "from scipy.stats import beta\n",
    "from scipy.stats import sem"
   ]
  },
  {
   "cell_type": "markdown",
   "metadata": {},
   "source": [
    "## Magics"
   ]
  },
  {
   "cell_type": "code",
   "execution_count": null,
   "metadata": {
    "scrolled": false
   },
   "outputs": [],
   "source": [
    "%matplotlib inline"
   ]
  },
  {
   "cell_type": "markdown",
   "metadata": {},
   "source": [
    "# Look at ODF data from SALS and compare with pSFDI a0, a2, a4"
   ]
  },
  {
   "cell_type": "markdown",
   "metadata": {},
   "source": [
    "## Load Processed pSFDI Data"
   ]
  },
  {
   "cell_type": "markdown",
   "metadata": {},
   "source": [
    "### Load in pSFDI Data"
   ]
  },
  {
   "cell_type": "code",
   "execution_count": null,
   "metadata": {
    "scrolled": false
   },
   "outputs": [],
   "source": [
    "pSFDI_data_path = 'C:\\\\Users\\\\potterst1\\\\Box Sync\\\\Research\\\\Projects\\\\IGA DIC pSFDI\\\\Experimental Data\\\\2D pSFDI data\\\\ODF Extraction\\\\4.15.19b\\\\2) pSFDI\\\\V_Green\\data_proc.mat'\n",
    "pSFDI_data = fileIO.read_mat_file(pSFDI_data_path)\n",
    "\n",
    "phi = pSFDI_data['phi_DC'][:, :, 0]\n",
    "a0 = pSFDI_data['a0_DC'][:, :, 0]\n",
    "a2 = pSFDI_data['a2_DC'][:, :, 0]\n",
    "a4 = pSFDI_data['a4_DC'][:, :, 0]\n",
    "DOA = pSFDI_data['DOA_DC'][:, :, 0]\n",
    "\n",
    "# Add 180\n",
    "phi = phi + 180 * np.ones(phi.shape)"
   ]
  },
  {
   "cell_type": "markdown",
   "metadata": {},
   "source": [
    "### Visualize data"
   ]
  },
  {
   "cell_type": "code",
   "execution_count": null,
   "metadata": {
    "scrolled": false
   },
   "outputs": [],
   "source": [
    "# PD\n",
    "fig = plt.figure(figsize=(10, 10))\n",
    "im0 = plt.imshow(phi, cmap='hsv');\n",
    "plt.title('Fiber PD');\n",
    "ax = plt.gca();\n",
    "divider = make_axes_locatable(ax);\n",
    "cax = divider.append_axes('right', size='5%', pad=0.05)\n",
    "plt.colorbar(im0, cax=cax);"
   ]
  },
  {
   "cell_type": "code",
   "execution_count": null,
   "metadata": {
    "scrolled": false
   },
   "outputs": [],
   "source": [
    "# a0\n",
    "fig = plt.figure(figsize=(10, 10))\n",
    "im0 = plt.imshow(a0, cmap='gray')\n",
    "plt.title('A0');"
   ]
  },
  {
   "cell_type": "code",
   "execution_count": null,
   "metadata": {
    "scrolled": false
   },
   "outputs": [],
   "source": [
    "# a2\n",
    "fig = plt.figure(figsize=(10, 10))\n",
    "im0 = plt.imshow(a2, cmap='jet')\n",
    "plt.title('a2')\n",
    "ax = plt.gca()\n",
    "divider = make_axes_locatable(ax)\n",
    "cax = divider.append_axes('right', size='5%', pad=0.05)\n",
    "colorlimits = (0, 0.05);\n",
    "im0.set_clim(colorlimits)\n",
    "plt.colorbar(im0, cax=cax);"
   ]
  },
  {
   "cell_type": "code",
   "execution_count": null,
   "metadata": {
    "scrolled": false
   },
   "outputs": [],
   "source": [
    "# a4\n",
    "fig = plt.figure(figsize=(10, 10))\n",
    "im0 = plt.imshow(a4, cmap='jet')\n",
    "plt.title('a4')\n",
    "ax = plt.gca()\n",
    "divider = make_axes_locatable(ax)\n",
    "cax = divider.append_axes('right', size='5%', pad=0.05)\n",
    "colorlimits = (0, 0.07);\n",
    "im0.set_clim(colorlimits)\n",
    "plt.colorbar(im0, cax=cax);"
   ]
  },
  {
   "cell_type": "code",
   "execution_count": null,
   "metadata": {
    "scrolled": false
   },
   "outputs": [],
   "source": [
    "# DOA\n",
    "fig = plt.figure(figsize=(10, 10))\n",
    "im0 = plt.imshow(DOA, cmap='jet')\n",
    "plt.title('DOA')\n",
    "ax = plt.gca()\n",
    "divider = make_axes_locatable(ax)\n",
    "cax = divider.append_axes('right', size='5%', pad=0.05)\n",
    "colorlimits = (0, .2);\n",
    "im0.set_clim(colorlimits)\n",
    "plt.colorbar(im0, cax=cax);"
   ]
  },
  {
   "cell_type": "markdown",
   "metadata": {},
   "source": [
    "### Visualize a2/a4 ratio"
   ]
  },
  {
   "cell_type": "code",
   "execution_count": null,
   "metadata": {
    "scrolled": false
   },
   "outputs": [],
   "source": [
    "a2a4 = a2/a4\n",
    "# a2/a4\n",
    "fig = plt.figure(figsize=(10, 10))\n",
    "im0 = plt.imshow(a2a4, cmap='jet')\n",
    "plt.title('a2/a4')\n",
    "ax = plt.gca()\n",
    "divider = make_axes_locatable(ax)\n",
    "cax = divider.append_axes('right', size='5%', pad=0.05)\n",
    "colorlimits = (0, 2);\n",
    "im0.set_clim(colorlimits)\n",
    "plt.colorbar(im0, cax=cax);"
   ]
  },
  {
   "cell_type": "markdown",
   "metadata": {},
   "source": [
    "## Load Raw Intensity pSFDI Data"
   ]
  },
  {
   "cell_type": "markdown",
   "metadata": {},
   "source": [
    "### Specify file paths"
   ]
  },
  {
   "cell_type": "code",
   "execution_count": null,
   "metadata": {
    "scrolled": false
   },
   "outputs": [],
   "source": [
    "sample_data_path = 'C:\\\\Users\\\\potterst1\\\\Box Sync\\\\Research\\\\Projects\\\\IGA DIC pSFDI\\\\Experimental Data\\\\2D pSFDI data\\\\ODF Extraction\\\\4.15.19c\\\\2) pSFDI\\\\Sample\\\\Vertical\\\\Green'\n",
    "standard_data_path = 'C:\\\\Users\\\\potterst1\\\\Box Sync\\\\Research\\Projects\\\\IGA DIC pSFDI\\\\Experimental Data\\\\2D pSFDI data\\\\ODF Extraction\\\\4.15.19c\\\\1) Standard\\\\Standard\\\\Vertical\\\\Green'"
   ]
  },
  {
   "cell_type": "markdown",
   "metadata": {},
   "source": [
    "### Load mask"
   ]
  },
  {
   "cell_type": "code",
   "execution_count": null,
   "metadata": {
    "scrolled": false
   },
   "outputs": [],
   "source": [
    "xrange, yrange = fileIO.read_psfdi_mask(sample_data_path)"
   ]
  },
  {
   "cell_type": "markdown",
   "metadata": {},
   "source": [
    "### Specify spatial frequency and polarizer resolution"
   ]
  },
  {
   "cell_type": "code",
   "execution_count": null,
   "metadata": {
    "scrolled": false
   },
   "outputs": [],
   "source": [
    "sfx_per = 37.1622\n",
    "polar_res = 4\n",
    "polar_max = 360\n",
    "polar_angles = np.arange(0, 180, polar_res)"
   ]
  },
  {
   "cell_type": "markdown",
   "metadata": {},
   "source": [
    "### Load and crop sample data"
   ]
  },
  {
   "cell_type": "code",
   "execution_count": null,
   "metadata": {
    "scrolled": false
   },
   "outputs": [],
   "source": [
    "sample_dark, sample_planar, sample_I0, sample_I120, sample_I240 = fileIO.read_raw_psfdi(sample_data_path, xrange, yrange, sfx_per, polar_res, polar_max)"
   ]
  },
  {
   "cell_type": "markdown",
   "metadata": {},
   "source": [
    "### Visualize"
   ]
  },
  {
   "cell_type": "code",
   "execution_count": null,
   "metadata": {
    "scrolled": false
   },
   "outputs": [],
   "source": [
    "fig, (ax0, ax1, ax2) = plt.subplots(1, 3, figsize=(15, 15))\n",
    "ax0.imshow(sample_I0[0, :, :], cmap='gray');\n",
    "ax1.imshow(sample_I120[0, :, :], cmap='gray');\n",
    "ax2.imshow(sample_I240[0, :, :], cmap='gray');\n",
    "\n",
    "fig, (ax0, ax1) = plt.subplots(1, 2, figsize=(15, 15))\n",
    "ax0.imshow(sample_dark[0, :, :], cmap='gray')\n",
    "ax1.imshow(sample_planar[0, :, :], cmap='gray');"
   ]
  },
  {
   "cell_type": "markdown",
   "metadata": {},
   "source": [
    "### Load and crop standard images"
   ]
  },
  {
   "cell_type": "markdown",
   "metadata": {},
   "source": [
    "### Median filter standard and dark images"
   ]
  },
  {
   "cell_type": "markdown",
   "metadata": {},
   "source": [
    "### Demodulate Images"
   ]
  },
  {
   "cell_type": "code",
   "execution_count": null,
   "metadata": {
    "scrolled": false
   },
   "outputs": [],
   "source": [
    "sample_IDC, sample_IAC = imp.demodulate(sample_I0, sample_I120, sample_I240, polar_res, polar_max)"
   ]
  },
  {
   "cell_type": "markdown",
   "metadata": {},
   "source": [
    "### Visualize"
   ]
  },
  {
   "cell_type": "code",
   "execution_count": null,
   "metadata": {
    "scrolled": false
   },
   "outputs": [],
   "source": [
    "fig, (ax0, ax1) = plt.subplots(1, 2, figsize=(15, 15))\n",
    "ax0.imshow(sample_IDC[0, :, :], cmap='gray')\n",
    "ax1.imshow(sample_IAC[0, :, :], cmap='gray');"
   ]
  },
  {
   "cell_type": "markdown",
   "metadata": {},
   "source": [
    "### Subtract out dark images"
   ]
  },
  {
   "cell_type": "markdown",
   "metadata": {},
   "source": [
    "## Load in SALS data"
   ]
  },
  {
   "cell_type": "code",
   "execution_count": null,
   "metadata": {
    "scrolled": false
   },
   "outputs": [],
   "source": [
    "SALS_data_path = 'C:\\\\Users\\\\potterst1\\\\Box Sync\\\\Research\\\\Projects\\\\IGA DIC pSFDI\\\\Experimental Data\\\\2D pSFDI data\\\\ODF Extraction\\\\SALS\\\\Results\\\\BP ODF 032919\\\\SALSA OUT TXT\\\\BP_ODF_Extraction_032919_SALSA.txt'\n",
    "\n",
    "SALS_data_dict = fileIO.read_SALS(SALS_data_path)"
   ]
  },
  {
   "cell_type": "code",
   "execution_count": null,
   "metadata": {
    "scrolled": false
   },
   "outputs": [],
   "source": [
    "PD_2d = SALS_data_dict['PD']\n",
    "# SALS PD\n",
    "fig = plt.figure(figsize=(10, 10))\n",
    "im0 = plt.imshow(PD_2d, cmap='hsv')\n",
    "plt.title('SALS PD')\n",
    "ax = plt.gca()\n",
    "divider = make_axes_locatable(ax)\n",
    "cax = divider.append_axes('right', size='5%', pad=0.05)\n",
    "colorlimits = (0, 180);\n",
    "im0.set_clim(colorlimits)\n",
    "plt.colorbar(im0, cax=cax);"
   ]
  },
  {
   "cell_type": "code",
   "execution_count": null,
   "metadata": {
    "scrolled": false
   },
   "outputs": [],
   "source": [
    "SD_2d = SALS_data_dict['SD']\n",
    "# SALS SD\n",
    "fig = plt.figure(figsize=(10, 10))\n",
    "im0 = plt.imshow(SD_2d, cmap='jet')\n",
    "plt.title('SALS SD')\n",
    "ax = plt.gca()\n",
    "divider = make_axes_locatable(ax)\n",
    "cax = divider.append_axes('right', size='5%', pad=0.05)\n",
    "colorlimits = (45, 55);\n",
    "im0.set_clim(colorlimits)\n",
    "plt.colorbar(im0, cax=cax);"
   ]
  },
  {
   "cell_type": "code",
   "execution_count": null,
   "metadata": {
    "scrolled": false
   },
   "outputs": [],
   "source": [
    "# Save a file for masking a mask\n",
    "name = 'C:\\\\Users\\\\potterst1\\\\Box Sync\\\\Research\\\\Projects\\\\IGA DIC pSFDI\\\\Experimental Data\\\\2D pSFDI data\\\\ODF Extraction\\\\SALS\\\\Results\\\\BP ODF 032919\\\\BW_Images\\\\color_premask.png'\n",
    "plt.imsave(name, SD_2d, format='png', cmap='jet', vmin=45, vmax=55)"
   ]
  },
  {
   "cell_type": "markdown",
   "metadata": {},
   "source": [
    "## Compare pSFDI and SALS"
   ]
  },
  {
   "cell_type": "markdown",
   "metadata": {},
   "source": [
    "### Resample images"
   ]
  },
  {
   "cell_type": "code",
   "execution_count": null,
   "metadata": {
    "scrolled": false
   },
   "outputs": [],
   "source": [
    "# Binary mask of pSFDI image\n",
    "psfdi_mask_path = 'C:\\\\Users\\\\potterst1\\\\Box Sync\\\\Research\\\\Projects\\\\IGA DIC pSFDI\\\\Experimental Data\\\\2D pSFDI data\\\\ODF Extraction\\\\4.15.19b\\\\2) pSFDI\\\\V_Green\\mask.tif'\n",
    "psfdi_mask = cv2.imread(psfdi_mask_path, -1)\n",
    "\n",
    "# Binary mask of SALS image\n",
    "sals_mask_path = 'C:\\\\Users\\\\potterst1\\\\Box Sync\\\\Research\\\\Projects\\\\IGA DIC pSFDI\\\\Experimental Data\\\\2D pSFDI data\\\\ODF Extraction\\\\SALS\\\\Results\\\\BP ODF 032919\\\\BW_Images\\\\Mask.tif'\n",
    "sals_mask = cv2.imread(sals_mask_path, -1)"
   ]
  },
  {
   "cell_type": "code",
   "execution_count": null,
   "metadata": {
    "scrolled": false
   },
   "outputs": [],
   "source": [
    "fig, (ax0, ax1) = plt.subplots(1, 2, figsize=(15, 15))\n",
    "im0 = ax0.imshow(psfdi_mask, cmap='gray')\n",
    "ax0.set_title('Data Mask for pSFDI Imaging');\n",
    "\n",
    "im1 = ax1.imshow(sals_mask, cmap='gray')\n",
    "ax1.set_title('Data Mask for SALS Imaging');"
   ]
  },
  {
   "cell_type": "code",
   "execution_count": null,
   "metadata": {
    "scrolled": false
   },
   "outputs": [],
   "source": [
    "psfdi_mask_upscaled = imp.upscale(psfdi_mask, *sals_mask.shape)"
   ]
  },
  {
   "cell_type": "code",
   "execution_count": null,
   "metadata": {
    "scrolled": false
   },
   "outputs": [],
   "source": [
    "# Show the mask results without thresholding\n",
    "fig = plt.figure(figsize=(10, 10))\n",
    "im0 = plt.imshow(psfdi_mask_upscaled, cmap='gray')\n",
    "plt.title('Upscaled pSFDI Mask Before Thresholding')\n",
    "ax = plt.gca()\n",
    "divider = make_axes_locatable(ax)\n",
    "cax = divider.append_axes('right', size='5%', pad=0.05)\n",
    "plt.colorbar(im0, cax=cax);"
   ]
  },
  {
   "cell_type": "code",
   "execution_count": null,
   "metadata": {
    "scrolled": false
   },
   "outputs": [],
   "source": [
    "# Threshold mask, then plot\n",
    "psfdi_mask_upscaled = psfdi_mask_upscaled >= 255\n",
    "psfdi_mask_upscaled = 255 * psfdi_mask_upscaled.astype('uint8')\n",
    "\n",
    "# Show the mask results after thresholding\n",
    "fig = plt.figure(figsize=(10, 10))\n",
    "im0 = plt.imshow(psfdi_mask_upscaled, cmap='gray')\n",
    "plt.title('Upscaled pSFDI Mask After Thresholding')\n",
    "ax = plt.gca()\n",
    "divider = make_axes_locatable(ax)\n",
    "cax = divider.append_axes('right', size='5%', pad=0.05)\n",
    "plt.colorbar(im0, cax=cax);"
   ]
  },
  {
   "cell_type": "code",
   "execution_count": null,
   "metadata": {
    "scrolled": false
   },
   "outputs": [],
   "source": [
    "# Upscale the rest of the data (phi)\n",
    "psfdi_phi_upscaled = imp.upscale(phi, *sals_mask.shape)\n",
    "psfdi_a0_upscaled = imp.upscale(a0, *sals_mask.shape)\n",
    "psfdi_a2_upscaled = imp.upscale(a2, *sals_mask.shape)\n",
    "psfdi_a4_upscaled = imp.upscale(a4, *sals_mask.shape)\n",
    "psfdi_a2a4_upscaled = imp.upscale(a2a4, *sals_mask.shape)"
   ]
  },
  {
   "cell_type": "markdown",
   "metadata": {},
   "source": [
    "### Register image data"
   ]
  },
  {
   "cell_type": "code",
   "execution_count": null,
   "metadata": {
    "scrolled": false
   },
   "outputs": [],
   "source": [
    "# Rotate psfdi image firts\n",
    "psfdi_mask_rotated = imp.rotate(psfdi_mask_upscaled, -90)\n",
    "\n",
    "fig, (ax0, ax1) = plt.subplots(1, 2, figsize=(15, 15))\n",
    "im0 = ax0.imshow(psfdi_mask_rotated, cmap='gray')\n",
    "ax0.set_title('Data Mask for pSFDI Imaging');\n",
    "\n",
    "im1 = ax1.imshow(sals_mask, cmap='gray')\n",
    "ax1.set_title('Data Mask for SALS Imaging');"
   ]
  },
  {
   "cell_type": "code",
   "execution_count": null,
   "metadata": {
    "scrolled": false
   },
   "outputs": [],
   "source": [
    "# Register images\n",
    "psfdi_mask_registered, warp_data = imp.register(psfdi_mask_rotated, sals_mask)\n",
    "\n",
    "print('cc: {}'.format(warp_data['cc']))\n",
    "print('warp matrix:')\n",
    "print(warp_data['warp'])\n",
    "\n",
    "fig, (ax0, ax1) = plt.subplots(1, 2, figsize=(15, 15))\n",
    "im0 = ax0.imshow(psfdi_mask_registered, cmap='gray')\n",
    "ax0.set_title('Data Mask for pSFDI Imaging');\n",
    "\n",
    "im1 = ax1.imshow(sals_mask, cmap='gray')\n",
    "ax1.set_title('Data Mask for SALS Imaging');"
   ]
  },
  {
   "cell_type": "code",
   "execution_count": null,
   "metadata": {
    "scrolled": false
   },
   "outputs": [],
   "source": [
    "# Register the rest of the data (phi)\n",
    "psfdi_phi_rotated = imp.rotate(psfdi_phi_upscaled, -90)\n",
    "psfdi_phi_rotated = psfdi_phi_rotated + 90 * np.ones(psfdi_phi_rotated.shape)  # Account for angle change\n",
    "\n",
    "psfdi_phi_rotated[psfdi_phi_rotated > 180] = psfdi_phi_rotated[psfdi_phi_rotated > 180] - 180\n",
    "\n",
    "psfdi_phi_registered = imp.warp(psfdi_phi_rotated, warp_data['warp'])"
   ]
  },
  {
   "cell_type": "code",
   "execution_count": null,
   "metadata": {
    "scrolled": false
   },
   "outputs": [],
   "source": [
    "# Register the rest of the data (a0)\n",
    "psfdi_a0_rotated = imp.rotate(psfdi_a0_upscaled, -90)\n",
    "psfdi_a0_registered = imp.warp(psfdi_a0_rotated, warp_data['warp'])\n",
    "\n",
    "# Register the rest of the data (a2)\n",
    "psfdi_a2_rotated = imp.rotate(psfdi_a2_upscaled, -90)\n",
    "psfdi_a2_registered = imp.warp(psfdi_a2_rotated, warp_data['warp'])\n",
    "\n",
    "# Register the rest of the data (a4)\n",
    "psfdi_a4_rotated = imp.rotate(psfdi_a4_upscaled, -90)\n",
    "psfdi_a4_registered = imp.warp(psfdi_a4_rotated, warp_data['warp'])\n",
    "\n",
    "# Register the rest of the data (a2a4)\n",
    "psfdi_a2a4_rotated = imp.rotate(psfdi_a2a4_upscaled, -90)\n",
    "psfdi_a2a4_registered = imp.warp(psfdi_a2a4_rotated, warp_data['warp'])"
   ]
  },
  {
   "cell_type": "markdown",
   "metadata": {},
   "source": [
    "### Visualize phi and a2a4 vs SD data"
   ]
  },
  {
   "cell_type": "code",
   "execution_count": null,
   "metadata": {
    "scrolled": true
   },
   "outputs": [],
   "source": [
    "# Phi vs PD first\n",
    "fig, (ax0, ax1) = plt.subplots(1, 2, figsize=(15, 15))\n",
    "im0 = ax0.imshow(psfdi_phi_registered, cmap='hsv')\n",
    "divider = make_axes_locatable(ax0)\n",
    "cax0 = divider.append_axes('right', size='5%', pad=0.05)\n",
    "colorlimits = (0, 180);\n",
    "im0.set_clim(colorlimits)\n",
    "fig.colorbar(im0, cax=cax0)\n",
    "ax0.set_title('pSFDI PD')\n",
    "\n",
    "im1 = ax1.imshow(PD_2d, cmap='hsv')\n",
    "divider = make_axes_locatable(ax1)\n",
    "cax1 = divider.append_axes('right', size='5%', pad=0.05)\n",
    "colorlimits = (0, 180);\n",
    "im1.set_clim(colorlimits)\n",
    "fig.colorbar(im1, cax=cax1)\n",
    "ax1.set_title('SALS PD');"
   ]
  },
  {
   "cell_type": "code",
   "execution_count": null,
   "metadata": {
    "scrolled": false
   },
   "outputs": [],
   "source": [
    "# a2a4 vs SD \n",
    "fig, (ax0, ax1) = plt.subplots(1, 2, figsize=(15, 15))\n",
    "im0 = ax0.imshow(psfdi_a2a4_registered, cmap='jet')\n",
    "divider = make_axes_locatable(ax0)\n",
    "cax0 = divider.append_axes('right', size='5%', pad=0.05)\n",
    "colorlimits = (0, 4);\n",
    "im0.set_clim(colorlimits)\n",
    "fig.colorbar(im0, cax=cax0)\n",
    "ax0.set_title('pSFDI a2/a4')\n",
    "\n",
    "im1 = ax1.imshow(SD_2d, cmap='jet')\n",
    "divider = make_axes_locatable(ax1)\n",
    "cax1 = divider.append_axes('right', size='5%', pad=0.05)\n",
    "colorlimits = (45, 55);\n",
    "im1.set_clim(colorlimits)\n",
    "fig.colorbar(im1, cax=cax1)\n",
    "ax1.set_title('SALS SD');"
   ]
  },
  {
   "cell_type": "markdown",
   "metadata": {},
   "source": [
    "### Check that specimens are aligned\n",
    "## This is still broken - Need to look at circular unwrapping to make sure data is aligned"
   ]
  },
  {
   "cell_type": "code",
   "execution_count": null,
   "metadata": {
    "scrolled": false
   },
   "outputs": [],
   "source": [
    "phi_diff = np.abs(psfdi_phi_registered - PD_2d)"
   ]
  },
  {
   "cell_type": "code",
   "execution_count": null,
   "metadata": {
    "scrolled": false
   },
   "outputs": [],
   "source": [
    "# Show the mask results after thresholding\n",
    "fig = plt.figure(figsize=(10, 10))\n",
    "im0 = plt.imshow(phi_diff, cmap='jet')\n",
    "plt.title('Absolute difference between pSFDI phi and SALS PD')\n",
    "ax = plt.gca()\n",
    "divider = make_axes_locatable(ax)\n",
    "cax = divider.append_axes('right', size='5%', pad=0.05)\n",
    "plt.colorbar(im0, cax=cax);"
   ]
  },
  {
   "cell_type": "code",
   "execution_count": null,
   "metadata": {
    "scrolled": false
   },
   "outputs": [],
   "source": [
    "# Compute and report difference statistics\n",
    "np.mean(phi_diff)"
   ]
  },
  {
   "cell_type": "code",
   "execution_count": null,
   "metadata": {
    "scrolled": false
   },
   "outputs": [],
   "source": [
    "np.std(phi_diff)"
   ]
  },
  {
   "cell_type": "markdown",
   "metadata": {},
   "source": [
    "### Feasibility study of $\\Gamma(\\theta)$ and $I(\\theta)$\n",
    "\n",
    "## For now, going to use PD from SALS because PD in pSFDI just shifts the double cosine series"
   ]
  },
  {
   "cell_type": "code",
   "execution_count": null,
   "metadata": {
    "scrolled": false
   },
   "outputs": [],
   "source": [
    "# Visualize the change in signal from theta shift\n",
    "a0_f = 0.4\n",
    "a2_f = 0.01\n",
    "a4_f = 0.4\n",
    "phi_1_f = 10\n",
    "phi_2_f = 25\n",
    "\n",
    "theta = np.linspace(-90, 90, 100)\n",
    "ifiber_1 = odf.Ifiber(a0_f, a2_f, a4_f, phi_1_f, theta)\n",
    "ifiber_2 = odf.Ifiber(a0_f, a2_f, a4_f, phi_2_f, theta)\n",
    "\n",
    "fig = plt.figure(figsize=(10, 10))\n",
    "plt.plot(theta, ifiber_1, color='g', label='phi = {}'.format(phi_1_f));\n",
    "plt.plot(theta, ifiber_2, color='r', label='phi = {}'.format(phi_2_f));\n",
    "plt.title('Shift of PD Does Not Change Ratio betwee Cosine Peaks');\n",
    "plt.xlabel('Theta')\n",
    "plt.ylabel('Intensity [a.u.]')\n",
    "plt.ylim(0, 1.5)\n",
    "plt.autoscale(enable=True, axis='x', tight=True)"
   ]
  },
  {
   "cell_type": "markdown",
   "metadata": {},
   "source": [
    "## Feasibility Study - Raw Data"
   ]
  },
  {
   "cell_type": "markdown",
   "metadata": {},
   "source": [
    "### Rotate full scale data, but don't perform extra registration. This isn't completely correct, but okay for now. Can improve by multiplying warp matrix translation by numer of psfdi pixels in SALS pixel as a start."
   ]
  },
  {
   "cell_type": "code",
   "execution_count": null,
   "metadata": {
    "scrolled": false
   },
   "outputs": [],
   "source": [
    "sample_IDC_rotated = [imp.rotate(sample_IDC[image, :, :], -90) for image in range(sample_IDC.shape[0])]\n",
    "sample_IDC_rotated = np.array(sample_IDC_rotated)\n",
    "sample_IAC_rotated = [imp.rotate(sample_IAC[image, :, :], -90) for image in range(sample_IAC.shape[0])]\n",
    "sample_IAC_rotated = np.array(sample_IAC_rotated)\n",
    "sample_planar_rotated = [imp.rotate(sample_planar[image, :, :], -90) for image in range(sample_planar.shape[0])]\n",
    "sample_planar_rotated = np.array(sample_planar_rotated)"
   ]
  },
  {
   "cell_type": "code",
   "execution_count": null,
   "metadata": {
    "scrolled": false
   },
   "outputs": [],
   "source": [
    "visualize.compare_raw_interactive(20, 20, sample_IDC_rotated, 'DC', SALS_data_dict)"
   ]
  },
  {
   "cell_type": "markdown",
   "metadata": {},
   "source": [
    "## Fourier Series Fit"
   ]
  },
  {
   "cell_type": "code",
   "execution_count": null,
   "metadata": {
    "scrolled": false
   },
   "outputs": [],
   "source": [
    "index = 100\n",
    "odf_theta = SALS_data_dict['theta'][index, :]\n",
    "odf_gamma = SALS_data_dict['odf'][index, :]"
   ]
  },
  {
   "cell_type": "code",
   "execution_count": null,
   "metadata": {
    "scrolled": false
   },
   "outputs": [],
   "source": [
    "an, bn, c = odf.fit_fourier(20, odf_gamma, odf_theta)\n",
    "odf_fsfit = odf.compute_fourier(an, bn, c, odf_theta)"
   ]
  },
  {
   "cell_type": "code",
   "execution_count": null,
   "metadata": {
    "scrolled": false
   },
   "outputs": [],
   "source": [
    "fig = plt.figure(figsize=(10, 10))\n",
    "plt.scatter(np.rad2deg(odf_theta), odf_gamma, marker='o', s=10, label='SALS ODF Data')\n",
    "plt.plot(np.rad2deg(odf_theta), odf_fsfit, color='r', label='Fourier Series Fit');\n",
    "plt.ylabel('Gamma');\n",
    "plt.xlabel('Theta');\n",
    "plt.legend()\n",
    "plt.title('SALS ODF Data and Associated Fourer Series Fit');"
   ]
  },
  {
   "cell_type": "code",
   "execution_count": null,
   "metadata": {
    "scrolled": false
   },
   "outputs": [],
   "source": [
    "fig = plt.figure(figsize=(10, 10))\n",
    "plt.polar(odf_theta, odf_fsfit, color='r', label='Fourier Series Fit');\n",
    "plt.scatter(odf_theta, odf_gamma, s=10, label='SALS ODF Data');\n",
    "plt.legend()\n",
    "plt.title('SALS ODF Data and Associated Fourier Series Fit - Polar Plot');"
   ]
  },
  {
   "cell_type": "markdown",
   "metadata": {},
   "source": [
    "## Compute the Primary and Secondary Directions"
   ]
  },
  {
   "cell_type": "code",
   "execution_count": null,
   "metadata": {
    "scrolled": false
   },
   "outputs": [],
   "source": [
    "theta1, theta2 = odf.structural_eigenval_thetas(an[0], bn[0])"
   ]
  },
  {
   "cell_type": "code",
   "execution_count": null,
   "metadata": {
    "scrolled": false
   },
   "outputs": [],
   "source": [
    "print('Theta I (deg): {}'.format(theta1))\n",
    "print('Theta II (deg): {}'.format(theta2))"
   ]
  },
  {
   "cell_type": "code",
   "execution_count": null,
   "metadata": {
    "scrolled": false
   },
   "outputs": [],
   "source": [
    "fig = plt.figure(figsize=(15, 10))\n",
    "plt.scatter(np.rad2deg(odf_theta), odf_gamma, s=10, label='SALS ODF Data');\n",
    "plt.plot(np.rad2deg(odf_theta), odf_fsfit, color='r', label='Fourier Series Fit')\n",
    "plt.plot((theta1 + 180) * np.ones(len(odf_theta)), np.linspace(0.12, 0.20, len(odf_theta)), color='k', label='Theta I')\n",
    "plt.plot(theta2 * np.ones(len(odf_theta)), np.linspace(0.12, 0.20, len(odf_theta)), color='g', label='Theta II')\n",
    "plt.plot((theta2 + 180) * np.ones(len(odf_theta)), np.linspace(0.12, 0.20, len(odf_theta)), color='g', label='Theta II')\n",
    "plt.xlabel('Theta')\n",
    "plt.ylabel('Gamma')\n",
    "plt.legend();\n",
    "plt.title('SALS ODF Data and Associated Fourier Series Fit - Primary Directions from Structural Tensor');"
   ]
  },
  {
   "cell_type": "code",
   "execution_count": null,
   "metadata": {
    "scrolled": false
   },
   "outputs": [],
   "source": [
    "theta1_r = np.deg2rad(theta1)\n",
    "theta2_r = np.deg2rad(theta2)\n",
    "fig = plt.figure(figsize=(10, 10))\n",
    "plt.polar(odf_theta, odf_fsfit, color='r', label='Fourier Series Fit');\n",
    "plt.scatter(odf_theta, odf_gamma, s=10, label='SALS ODF Data');\n",
    "plt.polar([theta1_r, theta1_r + np.pi], [0.20, 0.20], color='k', label='Theta I')\n",
    "plt.polar([theta2_r, theta2_r + np.pi], [0.20, 0.20], color='g', label='Theta II')\n",
    "plt.title('SALS Data and Fourier Series Fit - Primary Directions on Polar Plot');"
   ]
  },
  {
   "cell_type": "code",
   "execution_count": null,
   "metadata": {
    "scrolled": false
   },
   "outputs": [],
   "source": []
  }
 ],
 "metadata": {
  "kernelspec": {
   "display_name": "Python (scidev)",
   "language": "python",
   "name": "scidev"
  },
  "language_info": {
   "codemirror_mode": {
    "name": "ipython",
    "version": 3
   },
   "file_extension": ".py",
   "mimetype": "text/x-python",
   "name": "python",
   "nbconvert_exporter": "python",
   "pygments_lexer": "ipython3",
   "version": "3.6.7"
  }
 },
 "nbformat": 4,
 "nbformat_minor": 2
}
