{
 "cells": [
  {
   "cell_type": "markdown",
   "metadata": {},
   "source": [
    "# Exploring ODF Extraction - Ellipse Data Analysis\n",
    "## Sam Potter\n",
    "## Current: 5/16/19"
   ]
  },
  {
   "cell_type": "markdown",
   "metadata": {},
   "source": [
    "## Path and Imports"
   ]
  },
  {
   "cell_type": "code",
   "execution_count": 1,
   "metadata": {},
   "outputs": [],
   "source": [
    "import sys\n",
    "import os\n",
    "\n",
    "# psfdi\n",
    "sys.path.extend(['C:\\\\Users\\\\potterst1\\\\Desktop\\Repositories\\Github\\psfdi',\n",
    "                 'C:/Users/potterst1/Desktop/Repositories/Github/psfdi'])\n",
    "sys.path.extend(['/workspace/stpotter/git/github/psfdi'])\n",
    "\n",
    "from psfdi import visualize\n",
    "from psfdi import fileIO\n",
    "from matplotlib import pyplot as plt\n",
    "import numpy as np\n",
    "from mpl_toolkits.axes_grid1 import make_axes_locatable\n",
    "from matplotlib import patches\n",
    "from matplotlib import rc\n",
    "from psfdi import utilities\n",
    "from psfdi import odf\n",
    "from psfdi import image_processing as imp\n",
    "import seaborn as sns\n",
    "import cv2\n",
    "import matplotlib\n",
    "\n",
    "from ipywidgets import *\n",
    "from scipy import optimize as sciopt\n",
    "from scipy.integrate import trapz\n",
    "from scipy.interpolate import interp1d"
   ]
  },
  {
   "cell_type": "code",
   "execution_count": null,
   "metadata": {},
   "outputs": [],
   "source": []
  }
 ],
 "metadata": {
  "kernelspec": {
   "display_name": "Python (scidev)",
   "language": "python",
   "name": "scidev"
  },
  "language_info": {
   "codemirror_mode": {
    "name": "ipython",
    "version": 3
   },
   "file_extension": ".py",
   "mimetype": "text/x-python",
   "name": "python",
   "nbconvert_exporter": "python",
   "pygments_lexer": "ipython3",
   "version": "3.6.7"
  }
 },
 "nbformat": 4,
 "nbformat_minor": 2
}
