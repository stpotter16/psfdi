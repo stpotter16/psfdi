{
 "cells": [
  {
   "cell_type": "markdown",
   "metadata": {},
   "source": [
    "# Exploring ODF Extraction - BP Data Analysis\n",
    "## Sam Potter\n",
    "## Current: 5/16/19"
   ]
  },
  {
   "cell_type": "markdown",
   "metadata": {},
   "source": [
    "## Path and Imports"
   ]
  },
  {
   "cell_type": "code",
   "execution_count": null,
   "metadata": {
    "scrolled": false
   },
   "outputs": [],
   "source": [
    "import sys\n",
    "import os\n",
    "\n",
    "# psfdi\n",
    "sys.path.extend(['C:\\\\Users\\\\potterst1\\\\Desktop\\Repositories\\Github\\psfdi',\n",
    "                 'C:/Users/potterst1/Desktop/Repositories/Github/psfdi'])\n",
    "sys.path.extend(['/workspace/stpotter/git/github/psfdi'])\n",
    "\n",
    "from psfdi import visualize\n",
    "from psfdi import fileIO\n",
    "from matplotlib import pyplot as plt\n",
    "import numpy as np\n",
    "from mpl_toolkits.axes_grid1 import make_axes_locatable\n",
    "from matplotlib import patches\n",
    "from matplotlib import rc\n",
    "from psfdi import utilities\n",
    "from psfdi import odf\n",
    "from psfdi import image_processing as imp\n",
    "import seaborn as sns\n",
    "import cv2\n",
    "import matplotlib\n",
    "\n",
    "from ipywidgets import *\n",
    "from scipy import optimize as sciopt\n",
    "from scipy.integrate import trapz\n",
    "from scipy.interpolate import interp1d"
   ]
  },
  {
   "cell_type": "markdown",
   "metadata": {},
   "source": [
    "## Magics"
   ]
  },
  {
   "cell_type": "code",
   "execution_count": null,
   "metadata": {
    "scrolled": false
   },
   "outputs": [],
   "source": [
    "%matplotlib inline"
   ]
  },
  {
   "cell_type": "markdown",
   "metadata": {},
   "source": [
    "# Visualize Axis Confirmation Images"
   ]
  },
  {
   "cell_type": "code",
   "execution_count": null,
   "metadata": {
    "scrolled": false
   },
   "outputs": [],
   "source": [
    "paper_data_path = 'C:\\\\Users\\\\potterst1\\\\Box Sync\\\\Research\\\\Projects\\\\IGA DIC pSFDI\\\\Experimental Data\\\\2D pSFDI data\\\\ODF Extraction\\\\4.28.19\\\\3) Paper\\\\Sample\\\\Vertical\\\\Green'\n",
    "paper_data_path = '/workspace/stpotter/Data/pSFDI/2D-Biax-Data/4.28.19/3) Paper/Sample/Vertical/Green'\n",
    "\n",
    "paper_pic = cv2.imread(os.path.join(paper_data_path, 'planar_angle_0.tiff'), -1)"
   ]
  },
  {
   "cell_type": "code",
   "execution_count": null,
   "metadata": {
    "scrolled": false
   },
   "outputs": [],
   "source": [
    "fig = plt.figure(figsize=(10, 10))\n",
    "plt.imshow(paper_pic, cmap='gray');"
   ]
  },
  {
   "cell_type": "markdown",
   "metadata": {},
   "source": [
    "# BP Data"
   ]
  },
  {
   "cell_type": "markdown",
   "metadata": {},
   "source": [
    "## Load Raw Intensity pSFDI Data - 360 Degrees"
   ]
  },
  {
   "cell_type": "markdown",
   "metadata": {},
   "source": [
    "### Specify file paths"
   ]
  },
  {
   "cell_type": "code",
   "execution_count": null,
   "metadata": {
    "scrolled": false
   },
   "outputs": [],
   "source": [
    "bp_raw_path = 'C:\\\\Users\\\\potterst1\\\\Box Sync\\\\Research\\\\Projects\\\\IGA DIC pSFDI\\\\Experimental Data\\\\2D pSFDI data\\\\ODF Extraction\\\\4.28.19\\\\2) pSFDI\\\\Sample\\\\Vertical\\\\Green'\n",
    "bp_raw_path = '/workspace/stpotter/Data/pSFDI/2D-Biax-Data/4.28.19/2) pSFDI/Sample/Vertical/Green'\n",
    "\n",
    "bp_standard_path = 'C:\\\\Users\\\\potterst1\\\\Box Sync\\\\Research\\Projects\\\\IGA DIC pSFDI\\\\Experimental Data\\\\2D pSFDI data\\\\ODF Extraction\\\\4.28.19\\\\1) Standard\\\\Standard\\\\Vertical\\\\Green'\n",
    "bp_standard_path = '/workspace/stpotter/Data/pSFDI/2D-Biax-Data/4.28.19/1) Standard/Sample/Vertical/Green'"
   ]
  },
  {
   "cell_type": "markdown",
   "metadata": {},
   "source": [
    "### Specify spatial frequency and polarizer resolution"
   ]
  },
  {
   "cell_type": "code",
   "execution_count": null,
   "metadata": {
    "scrolled": false
   },
   "outputs": [],
   "source": [
    "sfx_per = 36.4679\n",
    "polar_res = 4\n",
    "polar_max = 360\n",
    "polar_angles = np.arange(0, polar_max, polar_res)\n",
    "\n",
    "bp_planar = [cv2.imread(os.path.join(bp_raw_path, 'planar_angle_' + str(angle) + '.tiff'), -1)for angle in polar_angles]\n",
    "bp_planar = np.array(bp_planar)"
   ]
  },
  {
   "cell_type": "code",
   "execution_count": null,
   "metadata": {
    "scrolled": false
   },
   "outputs": [],
   "source": [
    "fig = plt.figure(figsize=(10, 10))\n",
    "plt.imshow(bp_planar[0, :, :], cmap='gray');"
   ]
  },
  {
   "cell_type": "markdown",
   "metadata": {},
   "source": [
    "## Crop pSFDI ROI - Doing this manually for now"
   ]
  },
  {
   "cell_type": "code",
   "execution_count": null,
   "metadata": {
    "scrolled": false
   },
   "outputs": [],
   "source": [
    "rowstart, rowstop = 175, 775  # Best: 175, 775\n",
    "colstart, colstop = 350, 925  # Best: 350, 925\n",
    "\n",
    "bp_planar = bp_planar[:, rowstart:rowstop, colstart:colstop]"
   ]
  },
  {
   "cell_type": "code",
   "execution_count": null,
   "metadata": {
    "scrolled": false
   },
   "outputs": [],
   "source": [
    "fig = plt.figure(figsize=(10, 10))\n",
    "plt.imshow(bp_planar[0, :, :], cmap='gray');"
   ]
  },
  {
   "cell_type": "markdown",
   "metadata": {},
   "source": [
    "## Load in SALS data"
   ]
  },
  {
   "cell_type": "code",
   "execution_count": null,
   "metadata": {
    "scrolled": false
   },
   "outputs": [],
   "source": [
    "SALS_data_path = 'C:\\\\Users\\\\potterst1\\\\Box Sync\\\\Research\\\\Projects\\\\IGA DIC pSFDI\\\\Experimental Data\\\\2D pSFDI data\\\\ODF Extraction\\\\SALS\\\\BP\\\\Results\\\\BP ODF 042919'\n",
    "SALS_data_path = '/workspace/stpotter/Data/pSFDI/SALS/BP ODF 042919'\n",
    "\n",
    "#SALS_data_dict = fileIO.read_SALS(os.path.join(SALS_data_path, 'SALSA OUT TXT\\\\BP_ODF_42919_SALSA.txt'))\n",
    "SALS_data_dict = fileIO.read_SALS(os.path.join(SALS_data_path, 'SALSA OUT TXT/BP_ODF_42919_SALSA.txt'))"
   ]
  },
  {
   "cell_type": "code",
   "execution_count": null,
   "metadata": {
    "scrolled": false
   },
   "outputs": [],
   "source": [
    "sals_pd_im = cv2.imread(os.path.join(SALS_data_path, 'Images\\\\BP_ODF_42919_PrefD.png'), -1)\n",
    "sals_pd_im = cv2.imread(os.path.join(SALS_data_path, 'Images/BP_ODF_42919_PrefD.png'), -1)\n",
    "sals_pd_im = cv2.cvtColor(sals_pd_im, cv2.COLOR_BGR2RGB)"
   ]
  },
  {
   "cell_type": "code",
   "execution_count": null,
   "metadata": {
    "scrolled": false
   },
   "outputs": [],
   "source": [
    "fig = plt.figure(figsize=(15, 15))\n",
    "plt.title('SALSA Processed PD')\n",
    "plt.imshow(sals_pd_im);"
   ]
  },
  {
   "cell_type": "code",
   "execution_count": null,
   "metadata": {
    "scrolled": false
   },
   "outputs": [],
   "source": [
    "x = SALS_data_dict['x']\n",
    "y = SALS_data_dict['y']\n",
    "\n",
    "PD_2d = SALS_data_dict['PD']\n",
    "SD_2d = SALS_data_dict['SD']\n",
    "\n",
    "U = np.cos(np.deg2rad(PD_2d))\n",
    "V = np.sin(np.deg2rad(PD_2d))"
   ]
  },
  {
   "cell_type": "code",
   "execution_count": null,
   "metadata": {
    "scrolled": false
   },
   "outputs": [],
   "source": [
    "# SALS PD\n",
    "fig = plt.figure(figsize=(15, 15))\n",
    "im0 = plt.imshow(PD_2d, cmap='hsv')\n",
    "plt.quiver(U, V, headlength=0, headaxislength=0);\n",
    "plt.title('SALS PD')\n",
    "ax = plt.gca()\n",
    "divider = make_axes_locatable(ax)\n",
    "cax = divider.append_axes('right', size='5%', pad=0.05)\n",
    "colorlimits = (0, 180);\n",
    "im0.set_clim(colorlimits)\n",
    "plt.colorbar(im0, cax=cax);"
   ]
  },
  {
   "cell_type": "code",
   "execution_count": null,
   "metadata": {
    "scrolled": false
   },
   "outputs": [],
   "source": [
    "# SALS SD\n",
    "fig = plt.figure(figsize=(15, 15))\n",
    "im0 = plt.imshow(SD_2d, cmap='jet')\n",
    "plt.title('SALS SD')\n",
    "ax = plt.gca()\n",
    "divider = make_axes_locatable(ax)\n",
    "cax = divider.append_axes('right', size='5%', pad=0.05)\n",
    "colorlimits = (45, 55);\n",
    "im0.set_clim(colorlimits)\n",
    "plt.colorbar(im0, cax=cax);"
   ]
  },
  {
   "cell_type": "markdown",
   "metadata": {},
   "source": [
    "## Register Images"
   ]
  },
  {
   "cell_type": "markdown",
   "metadata": {},
   "source": [
    "### Create pSFDI Binary Mask"
   ]
  },
  {
   "cell_type": "code",
   "execution_count": null,
   "metadata": {
    "scrolled": false
   },
   "outputs": [],
   "source": [
    "bp_planar_reg = bp_planar[0, :, :]\n",
    "fig = plt.figure(figsize=(10, 10))\n",
    "plt.imshow(bp_planar_reg, cmap='gray')\n",
    "plt.imsave(os.path.join(bp_raw_path, 'cropped_for_mask.png'), bp_planar_reg, cmap='gray')"
   ]
  },
  {
   "cell_type": "markdown",
   "metadata": {},
   "source": [
    "### View Binary Masks before upscaling"
   ]
  },
  {
   "cell_type": "code",
   "execution_count": null,
   "metadata": {
    "scrolled": false
   },
   "outputs": [],
   "source": [
    "psfdi_mask = cv2.imread(os.path.join(bp_raw_path, 'Mask.tif'), -1)\n",
    "#sals_mask = cv2.imread(os.path.join(SALS_data_path, 'BW_Images\\\\BP_ODF_42919.png'), -1)\n",
    "sals_mask = cv2.imread(os.path.join(SALS_data_path, 'BW_Images/BP_ODF_42919.png'), -1)\n",
    "fig, (ax0, ax1) = plt.subplots(1, 2, figsize=(10, 10))\n",
    "im0 = ax0.imshow(psfdi_mask, cmap='gray');\n",
    "ax0.set_title('pSFDI Mask for registration');\n",
    "\n",
    "im1 = ax1.imshow(sals_mask, cmap='gray')\n",
    "ax1.set_title('SALS mask for registration');"
   ]
  },
  {
   "cell_type": "markdown",
   "metadata": {},
   "source": [
    "### Upscale Binary Masks"
   ]
  },
  {
   "cell_type": "code",
   "execution_count": null,
   "metadata": {
    "scrolled": false
   },
   "outputs": [],
   "source": [
    "psfdi_mask_upscale = imp.upscale(psfdi_mask, *PD_2d.shape)\n",
    "sals_mask_upscale = imp.upscale(sals_mask[:, :, 0], *PD_2d.shape)\n",
    "\n",
    "fig, (ax0, ax1) = plt.subplots(1, 2, figsize=(15, 15))\n",
    "im0 = ax0.imshow(psfdi_mask_upscale, cmap='gray');\n",
    "ax0.set_title('pSFDI Mask for registration - upscaled');\n",
    "\n",
    "im1 = ax1.imshow(sals_mask_upscale, cmap='gray')\n",
    "ax1.set_title('SALS mask for registration- upscaled');"
   ]
  },
  {
   "cell_type": "markdown",
   "metadata": {},
   "source": [
    "### Register"
   ]
  },
  {
   "cell_type": "code",
   "execution_count": null,
   "metadata": {
    "scrolled": false
   },
   "outputs": [],
   "source": [
    "# Register images\n",
    "psfdi_mask_registered, warp_data = imp.register(psfdi_mask_upscale.astype(np.uint8), sals_mask_upscale.astype(np.uint8))\n",
    "\n",
    "print('cc: {}'.format(warp_data['cc']))\n",
    "print('warp matrix:')\n",
    "print(warp_data['warp'])"
   ]
  },
  {
   "cell_type": "code",
   "execution_count": null,
   "metadata": {
    "scrolled": false
   },
   "outputs": [],
   "source": [
    "fig, (ax0, ax1) = plt.subplots(1, 2, figsize=(15, 15))\n",
    "im0 = ax0.imshow(psfdi_mask_registered, cmap='gray');\n",
    "ax0.set_title('pSFDI Mask for registration - registered');\n",
    "\n",
    "im1 = ax1.imshow(sals_mask_upscale, cmap='gray')\n",
    "ax1.set_title('SALS mask for registration- registered');"
   ]
  },
  {
   "cell_type": "markdown",
   "metadata": {},
   "source": [
    "### Upscale and Register all the Planar pSFDI Data"
   ]
  },
  {
   "cell_type": "code",
   "execution_count": null,
   "metadata": {
    "scrolled": false
   },
   "outputs": [],
   "source": [
    "# Upscale\n",
    "bp_planar_upscale = [imp.upscale(bp_planar[angle, :, :], *PD_2d.shape) for angle in range(len(polar_angles))]\n",
    "bp_planar_upscale = np.array(bp_planar_upscale)"
   ]
  },
  {
   "cell_type": "code",
   "execution_count": null,
   "metadata": {
    "scrolled": false
   },
   "outputs": [],
   "source": [
    "# Register\n",
    "bp_planar_registered = [imp.warp(bp_planar_upscale[angle, :, :], warp_data['warp']) for angle in range(len(polar_angles))]\n",
    "bp_planar_registered = np.array(bp_planar_upscale)"
   ]
  },
  {
   "cell_type": "markdown",
   "metadata": {},
   "source": [
    "## Feasibility Study - Raw Data"
   ]
  },
  {
   "cell_type": "markdown",
   "metadata": {},
   "source": [
    "### Set the row and column data for visualization etc"
   ]
  },
  {
   "cell_type": "code",
   "execution_count": null,
   "metadata": {
    "scrolled": false
   },
   "outputs": [],
   "source": [
    "row = 15\n",
    "col = 15\n",
    "ydim = SALS_data_dict['PD'].shape[0]\n",
    "\n",
    "index = col * ydim + (ydim - col)"
   ]
  },
  {
   "cell_type": "markdown",
   "metadata": {},
   "source": [
    "### Visualize where the point is"
   ]
  },
  {
   "cell_type": "code",
   "execution_count": null,
   "metadata": {
    "scrolled": false
   },
   "outputs": [],
   "source": [
    "row_step = int(bp_planar.shape[1] / PD_2d.shape[0])\n",
    "col_step = int(bp_planar.shape[2] / PD_2d.shape[1])\n",
    "\n",
    "# Get the correct rectangle start indices\n",
    "psfdi_row = row * row_step\n",
    "psfdi_col = col * col_step\n",
    "\n",
    "fig, ax = plt.subplots(figsize=(10, 10))\n",
    "plt.imshow(bp_planar[0, :, :], cmap='gray');\n",
    "rect = patches.Rectangle((psfdi_col, psfdi_row), row_step, col_step, edgecolor='r', facecolor='r')\n",
    "ax.add_patch(rect);\n",
    "plt.title('Location of Beam ROI - Shown in Red');"
   ]
  },
  {
   "cell_type": "markdown",
   "metadata": {},
   "source": [
    "### Get SALS data"
   ]
  },
  {
   "cell_type": "code",
   "execution_count": null,
   "metadata": {
    "scrolled": false
   },
   "outputs": [],
   "source": [
    "odf_theta = SALS_data_dict['theta'][index, :]\n",
    "odf_gamma = SALS_data_dict['odf'][index, :]"
   ]
  },
  {
   "cell_type": "markdown",
   "metadata": {},
   "source": [
    "### Get pSFDI data with roll compensation"
   ]
  },
  {
   "cell_type": "code",
   "execution_count": null,
   "metadata": {
    "scrolled": false
   },
   "outputs": [],
   "source": [
    "roll = 90 // polar_res\n",
    "\n",
    "bp_data = bp_planar_registered[:, row, col]\n",
    "bp_data = np.roll(bp_data, roll)"
   ]
  },
  {
   "cell_type": "markdown",
   "metadata": {},
   "source": [
    "### Convert polar angles to radians for analysis"
   ]
  },
  {
   "cell_type": "code",
   "execution_count": null,
   "metadata": {
    "scrolled": false
   },
   "outputs": [],
   "source": [
    "polar_angles = np.deg2rad(polar_angles)"
   ]
  },
  {
   "cell_type": "markdown",
   "metadata": {},
   "source": [
    "### Visualize Data"
   ]
  },
  {
   "cell_type": "code",
   "execution_count": null,
   "metadata": {
    "scrolled": false
   },
   "outputs": [],
   "source": [
    "fig, (ax0, ax1) = plt.subplots(1, 2, figsize=(15, 15), subplot_kw=dict(projection='polar'))\n",
    "ax0.plot(polar_angles, bp_data, linestyle='--', marker='o', color='g',\n",
    "         label='Mean Fiber Intensity');\n",
    "ax0.set_title('Upscaled pSFDI Raw Intensitym - Roll Compensated');\n",
    "ax0.set_ylim([0.975 * np.min(bp_data), 1.025 * np.max(bp_data)])\n",
    "\n",
    "ax1.plot(odf_theta, odf_gamma, color='r', label='SALS ODF');\n",
    "ax1.set_ylim([0, 0.25])\n",
    "ax1.set_title('SALS ODF');"
   ]
  },
  {
   "cell_type": "code",
   "execution_count": null,
   "metadata": {
    "scrolled": false
   },
   "outputs": [],
   "source": [
    "fig, (ax0, ax1) = plt.subplots(2, 1, figsize=(15, 15))\n",
    "ax0.plot(polar_angles, bp_data, linestyle='--', marker='o', color='g',\n",
    "         label='Mean Fiber Intensity');\n",
    "ax0.set_title('Upscaled pSFDI Raw Intensitym - Roll Compensated');\n",
    "ax0.set_ylim([np.min(bp_data), np.max(bp_data)])\n",
    "ax0.set_xlabel('Theta')\n",
    "\n",
    "ax1.plot(odf_theta, odf_gamma, color='r', label='SALS ODF');\n",
    "ax1.set_ylim([np.min(odf_gamma), np.max(odf_gamma)])\n",
    "ax1.set_title('SALS ODF');\n",
    "ax1.set_xlabel('Theta');"
   ]
  },
  {
   "cell_type": "markdown",
   "metadata": {},
   "source": [
    "## Fourier Series Fit"
   ]
  },
  {
   "cell_type": "markdown",
   "metadata": {},
   "source": [
    "### SALS Data"
   ]
  },
  {
   "cell_type": "code",
   "execution_count": null,
   "metadata": {
    "scrolled": false
   },
   "outputs": [],
   "source": [
    "odf_theta = SALS_data_dict['theta'][index, :]\n",
    "odf_gamma = SALS_data_dict['odf'][index, :]"
   ]
  },
  {
   "cell_type": "code",
   "execution_count": null,
   "metadata": {
    "scrolled": false
   },
   "outputs": [],
   "source": [
    "an, bn, c = odf.fit_fourier(20, odf_gamma, odf_theta)\n",
    "odf_fsfit = odf.compute_fourier(an, bn, c, odf_theta)"
   ]
  },
  {
   "cell_type": "code",
   "execution_count": null,
   "metadata": {
    "scrolled": false
   },
   "outputs": [],
   "source": [
    "fig = plt.figure(figsize=(15, 10))\n",
    "plt.scatter(np.rad2deg(odf_theta), odf_gamma, marker='o', s=10, label='SALS ODF Data')\n",
    "plt.plot(np.rad2deg(odf_theta), odf_fsfit, color='r', label='Fourier Series Fit');\n",
    "plt.ylabel('Gamma');\n",
    "plt.xlabel('Theta');\n",
    "plt.legend()\n",
    "plt.title('SALS ODF Data and Associated Fourer Series Fit');"
   ]
  },
  {
   "cell_type": "code",
   "execution_count": null,
   "metadata": {
    "scrolled": false
   },
   "outputs": [],
   "source": [
    "fig = plt.figure(figsize=(10, 10))\n",
    "plt.polar(odf_theta, odf_fsfit, color='r', label='Fourier Series Fit');\n",
    "plt.scatter(odf_theta, odf_gamma, s=10, label='SALS ODF Data');\n",
    "plt.legend()\n",
    "plt.title('SALS ODF Data and Associated Fourier Series Fit - Polar Plot');"
   ]
  },
  {
   "cell_type": "markdown",
   "metadata": {},
   "source": [
    "## Compute the Primary and Secondary Directions"
   ]
  },
  {
   "cell_type": "code",
   "execution_count": null,
   "metadata": {
    "scrolled": false
   },
   "outputs": [],
   "source": [
    "theta1, theta2 = odf.structural_eigenval_thetas(an[0], bn[0])"
   ]
  },
  {
   "cell_type": "code",
   "execution_count": null,
   "metadata": {
    "scrolled": false
   },
   "outputs": [],
   "source": [
    "print('Theta I (deg): {}'.format(theta1))\n",
    "print('Theta II (deg): {}'.format(theta2))"
   ]
  },
  {
   "cell_type": "code",
   "execution_count": null,
   "metadata": {
    "scrolled": false
   },
   "outputs": [],
   "source": [
    "fig = plt.figure(figsize=(15, 10))\n",
    "plt.scatter(np.rad2deg(odf_theta), odf_gamma, s=10, label='SALS ODF Data');\n",
    "plt.plot(np.rad2deg(odf_theta), odf_fsfit, color='r', label='Fourier Series Fit')\n",
    "plt.plot((theta1 + 180) * np.ones(len(odf_theta)), np.linspace(0.12, 0.20, len(odf_theta)), color='k', label='Theta I')\n",
    "plt.plot(theta2 * np.ones(len(odf_theta)), np.linspace(0.12, 0.20, len(odf_theta)), color='g', label='Theta II')\n",
    "plt.plot((theta2 + 180) * np.ones(len(odf_theta)), np.linspace(0.12, 0.20, len(odf_theta)), color='g', label='Theta II')\n",
    "plt.xlabel('Theta')\n",
    "plt.ylabel('Gamma')\n",
    "plt.legend();\n",
    "plt.title('SALS ODF Data and Associated Fourier Series Fit - Primary Directions from Structural Tensor');"
   ]
  },
  {
   "cell_type": "code",
   "execution_count": null,
   "metadata": {
    "scrolled": false
   },
   "outputs": [],
   "source": [
    "theta1_r = np.deg2rad(theta1)\n",
    "theta2_r = np.deg2rad(theta2)\n",
    "fig = plt.figure(figsize=(10, 10))\n",
    "plt.polar(odf_theta, odf_fsfit, color='r', label='Fourier Series Fit');\n",
    "plt.scatter(odf_theta, odf_gamma, s=10, label='SALS ODF Data');\n",
    "plt.polar([theta1_r, theta1_r + np.pi], [1.01 * np.max(odf_gamma), 1.01 * np.max(odf_gamma)], color='k', label='Theta I')\n",
    "plt.polar([theta2_r, theta2_r + np.pi], [1.01 * np.max(odf_gamma), 1.01 * np.max(odf_gamma)], color='g', label='Theta II')\n",
    "plt.legend()\n",
    "plt.title('SALS Data and Fourier Series Fit - Primary Directions on Polar Plot');"
   ]
  },
  {
   "cell_type": "code",
   "execution_count": null,
   "metadata": {
    "scrolled": false
   },
   "outputs": [],
   "source": [
    "fig, (ax0, ax1) = plt.subplots(1, 2, figsize=(15, 15), subplot_kw=dict(projection='polar'))\n",
    "ax0.plot(polar_angles, bp_data, linestyle='--', marker='o', color='g',\n",
    "         label='Mean Fiber Intensity');\n",
    "ax0.set_title('Upscaled pSFDI Raw Intensity - Roll Compensated');\n",
    "ax0.set_ylim([0.975 * np.min(bp_data), 1.025 * np.max(bp_data)])\n",
    "ax0.plot([theta1_r, theta1_r + np.pi], [1.01 * np.max(bp_data), 1.01 * np.max(bp_data)], color='k', label='Theta I')\n",
    "ax0.plot([theta2_r, theta2_r + np.pi], [1.01 * np.max(bp_data), 1.01 * np.max(bp_data)], color='g', label='Theta II')\n",
    "\n",
    "ax1.plot(odf_theta, odf_gamma, color='r', label='SALS ODF');\n",
    "ax1.plot([theta1_r, theta1_r + np.pi], [1.01 * np.max(odf_gamma), 1.01 * np.max(odf_gamma)], color='k', label='Theta I')\n",
    "ax1.plot([theta2_r, theta2_r + np.pi], [1.01 * np.max(odf_gamma), 1.01 * np.max(odf_gamma)], color='g', label='Theta II')\n",
    "ax1.set_ylim([0, 0.25])\n",
    "ax1.set_title('SALS ODF');\n",
    "plt.legend();"
   ]
  },
  {
   "cell_type": "markdown",
   "metadata": {},
   "source": [
    "## Fit pSFDI Ellipse"
   ]
  },
  {
   "cell_type": "code",
   "execution_count": null,
   "metadata": {
    "scrolled": false
   },
   "outputs": [],
   "source": [
    "theta = np.linspace(0, 2 * np.pi, 100)\n",
    "epts = odf.ellipse(33750, .5, 0, theta)\n",
    "fig = plt.figure(figsize=(10, 10))\n",
    "plt.polar(theta, epts, label='Bogus Ellipse Plot')\n",
    "plt.polar(polar_angles, bp_data, linestyle='--', marker='o', color='g', label='pSFDI Intensity Data')\n",
    "ax0.set_ylim([0.9 * np.min(epts), 1.1 * np.max(epts)])\n",
    "plt.legend();"
   ]
  },
  {
   "cell_type": "code",
   "execution_count": null,
   "metadata": {
    "scrolled": false
   },
   "outputs": [],
   "source": [
    "args_tup = (polar_angles, bp_data)\n",
    "int_x = [35000, 0, 0]\n",
    "bounds = ((0, 1000 * np.max(bp_data)), (0.0, 1.0), (0, 2 * np.pi))"
   ]
  },
  {
   "cell_type": "markdown",
   "metadata": {},
   "source": [
    "### Global"
   ]
  },
  {
   "cell_type": "code",
   "execution_count": null,
   "metadata": {
    "scrolled": true
   },
   "outputs": [],
   "source": [
    "minfun = odf.minellipsefun\n",
    "res = sciopt.differential_evolution(minfun, args=args_tup, bounds=bounds)\n",
    "print('Final values of b, e, phi: {}'.format(res.x))\n",
    "print('Final residual: {}'.format(res.fun))\n",
    "print('Final optimizer success status: {}'.format(res.success))\n",
    "print('Final optimizer message: {}'.format(res.message))"
   ]
  },
  {
   "cell_type": "code",
   "execution_count": null,
   "metadata": {
    "scrolled": false
   },
   "outputs": [],
   "source": [
    "fit_ellipse = odf.ellipse(res.x[0], res.x[1], res.x[2], polar_angles)\n",
    "fig = plt.figure(figsize=(10, 10))\n",
    "plt.polar(polar_angles, fit_ellipse, marker='o')\n",
    "plt.polar(polar_angles, bp_data, marker='o', color='g')\n",
    "plt.ylim([33500, 34000]);"
   ]
  },
  {
   "cell_type": "markdown",
   "metadata": {},
   "source": [
    "## Remove Pi-Span"
   ]
  },
  {
   "cell_type": "markdown",
   "metadata": {},
   "source": [
    "### SALS data"
   ]
  },
  {
   "cell_type": "code",
   "execution_count": null,
   "metadata": {
    "scrolled": false
   },
   "outputs": [],
   "source": [
    "lower = odf_theta > np.deg2rad(theta2) \n",
    "upper = odf_theta < np.deg2rad(theta2 + 180)\n",
    "indices = np.all((lower, upper), axis=0)"
   ]
  },
  {
   "cell_type": "code",
   "execution_count": null,
   "metadata": {
    "scrolled": false
   },
   "outputs": [],
   "source": [
    "theta_pi_span = odf_theta[indices]\n",
    "# Shift this to 0 deg\n",
    "theta_pi_span = theta_pi_span - np.min(theta_pi_span) * np.ones(len(theta_pi_span))\n",
    "# Shift this to -pi/2\n",
    "theta_pi_span = theta_pi_span - np.pi / 2 * np.ones(len(theta_pi_span))\n",
    "gamma_pi_span = odf_gamma[indices]"
   ]
  },
  {
   "cell_type": "code",
   "execution_count": null,
   "metadata": {
    "scrolled": false
   },
   "outputs": [],
   "source": [
    "# gamma_pi_span = gamma_pi_span - np.min(gamma_pi_span) * np.ones(len(gamma_pi_span))"
   ]
  },
  {
   "cell_type": "code",
   "execution_count": null,
   "metadata": {
    "scrolled": false
   },
   "outputs": [],
   "source": [
    "fig = plt.figure(figsize=(15, 10))\n",
    "plt.plot(theta_pi_span, gamma_pi_span, color='r');\n",
    "plt.title('Pi-Span of SALS ODF');\n",
    "plt.xlabel('Theta');"
   ]
  },
  {
   "cell_type": "code",
   "execution_count": null,
   "metadata": {
    "scrolled": false
   },
   "outputs": [],
   "source": [
    "gamma_area = trapz(gamma_pi_span, theta_pi_span)\n",
    "\n",
    "norm_gamma_pi_span = gamma_pi_span / gamma_area\n",
    "\n",
    "print('Unit Normalized ODF Data Area: {}'.format(trapz(norm_gamma_pi_span, theta_pi_span)))"
   ]
  },
  {
   "cell_type": "code",
   "execution_count": null,
   "metadata": {
    "scrolled": false
   },
   "outputs": [],
   "source": [
    "fig = plt.figure(figsize=(15, 10))\n",
    "plt.plot(np.rad2deg(theta_pi_span), norm_gamma_pi_span, color='r');\n",
    "plt.title('Pi-Span of SALS ODF - Unit Normalized');\n",
    "plt.xlabel('Theta');"
   ]
  },
  {
   "cell_type": "markdown",
   "metadata": {},
   "source": [
    "### pSFDI Intensity"
   ]
  },
  {
   "cell_type": "code",
   "execution_count": null,
   "metadata": {
    "scrolled": false
   },
   "outputs": [],
   "source": [
    "lower = polar_angles > np.deg2rad(theta2) \n",
    "upper = polar_angles < np.deg2rad(theta2 + 180)\n",
    "indices = np.all((lower, upper), axis=0)"
   ]
  },
  {
   "cell_type": "code",
   "execution_count": null,
   "metadata": {
    "scrolled": false
   },
   "outputs": [],
   "source": [
    "psfdi_theta_pi_span = polar_angles[indices]\n",
    "# Shift this to 0 deg\n",
    "psfdi_theta_pi_span = psfdi_theta_pi_span - np.min(psfdi_theta_pi_span) * np.ones(len(psfdi_theta_pi_span))\n",
    "# Shift this to -pi/2\n",
    "psfdi_theta_pi_span = psfdi_theta_pi_span - np.pi / 2 * np.ones(len(psfdi_theta_pi_span))\n",
    "intensity_pi_span = bp_data[indices]"
   ]
  },
  {
   "cell_type": "code",
   "execution_count": null,
   "metadata": {
    "scrolled": false
   },
   "outputs": [],
   "source": [
    "fig = plt.figure(figsize=(15, 10))\n",
    "plt.plot(psfdi_theta_pi_span, intensity_pi_span, linestyle='--', marker='o', color='g');\n",
    "plt.title('Pi-Span of pSFDI Intensity');\n",
    "plt.xlabel('Theta');"
   ]
  },
  {
   "cell_type": "code",
   "execution_count": null,
   "metadata": {
    "scrolled": false
   },
   "outputs": [],
   "source": [
    "intensity_area = trapz(intensity_pi_span, psfdi_theta_pi_span)\n",
    "\n",
    "norm_intensity_pi_span = intensity_pi_span / intensity_area\n",
    "\n",
    "print('Unit Normalized Intensity Data Area: {}'.format(trapz(norm_intensity_pi_span, psfdi_theta_pi_span)))"
   ]
  },
  {
   "cell_type": "code",
   "execution_count": null,
   "metadata": {
    "scrolled": false
   },
   "outputs": [],
   "source": [
    "fig = plt.figure(figsize=(15, 10))\n",
    "plt.plot(psfdi_theta_pi_span, norm_intensity_pi_span, linestyle='--', marker='o', color='g');\n",
    "plt.title('Pi-Span of pSFDI Intensity - Unit Normalized');\n",
    "plt.xlabel('Theta');"
   ]
  },
  {
   "cell_type": "markdown",
   "metadata": {},
   "source": [
    "### Compute Mean and SD of SALS Pi-Span"
   ]
  },
  {
   "cell_type": "code",
   "execution_count": null,
   "metadata": {
    "scrolled": false
   },
   "outputs": [],
   "source": [
    "gamma_mean = trapz(theta_pi_span * gamma_pi_span, theta_pi_span)\n",
    "gamma_var = trapz(gamma_pi_span * np.square(theta_pi_span - np.ones(len(theta_pi_span)) * gamma_mean), theta_pi_span)\n",
    "gamma_sd = np.sqrt(gamma_var)"
   ]
  },
  {
   "cell_type": "code",
   "execution_count": null,
   "metadata": {
    "scrolled": false
   },
   "outputs": [],
   "source": [
    "print('Mean of Pi-Span (deg): {}'.format(np.rad2deg(gamma_mean)))\n",
    "print('Standard Deviation of Pi-Span (deg): {}'.format(np.rad2deg(gamma_sd)))"
   ]
  },
  {
   "cell_type": "markdown",
   "metadata": {},
   "source": [
    "### Compute beta distribution"
   ]
  },
  {
   "cell_type": "code",
   "execution_count": null,
   "metadata": {
    "scrolled": false
   },
   "outputs": [],
   "source": [
    "# Compute the beta values\n",
    "sals_beta = odf.compute_beta(gamma_mean, gamma_sd, theta_pi_span)"
   ]
  },
  {
   "cell_type": "code",
   "execution_count": null,
   "metadata": {
    "scrolled": false
   },
   "outputs": [],
   "source": [
    "fig = plt.figure(figsize=(10, 10))\n",
    "plt.plot(theta_pi_span,sals_beta, color='k', label='Beta Distribution');\n",
    "plt.plot(theta_pi_span, norm_gamma_pi_span, color='r', label='SALS ODF')\n",
    "plt.title('SALS ODF and Beta Distribution');\n",
    "plt.xlabel('Theta')\n",
    "plt.legend();"
   ]
  },
  {
   "cell_type": "markdown",
   "metadata": {},
   "source": [
    "## Wrapped Normal Distribution"
   ]
  },
  {
   "cell_type": "code",
   "execution_count": null,
   "metadata": {},
   "outputs": [],
   "source": [
    "test_wn = odf.wrapped_normal(gamma_mean, gamma_sd, np.pi, theta_pi_span)\n",
    "fig = plt.figure(figsize=(10, 10))\n",
    "plt.plot(theta_pi_span, test_wn);"
   ]
  },
  {
   "cell_type": "code",
   "execution_count": null,
   "metadata": {},
   "outputs": [],
   "source": [
    "fig = plt.figure(figsize=(10, 10))\n",
    "plt.plot(theta_pi_span, test_wn, color='k', label='Wrapped Normal Distribution');\n",
    "plt.plot(theta_pi_span, norm_gamma_pi_span, color='r', label='SALS ODF')\n",
    "plt.title('SALS ODF and Beta Distribution');\n",
    "plt.xlabel('Theta')\n",
    "plt.legend();"
   ]
  },
  {
   "cell_type": "markdown",
   "metadata": {},
   "source": [
    "# Extracting Single Fiber Values Using Discrete Sampling"
   ]
  },
  {
   "cell_type": "markdown",
   "metadata": {},
   "source": [
    "## Use wrapped normal distribution"
   ]
  },
  {
   "cell_type": "markdown",
   "metadata": {},
   "source": [
    "### Generate Wrapped Normal Samples"
   ]
  },
  {
   "cell_type": "code",
   "execution_count": null,
   "metadata": {},
   "outputs": [],
   "source": [
    "test_wn = odf.wrapped_normal(gamma_mean, gamma_sd, np.pi, theta_pi_span)\n",
    "fig = plt.figure(figsize=(10, 10))\n",
    "plt.plot(theta_pi_span, test_wn);\n",
    "plt.title('Wrapped Normal Distribution with Mean and Std. Dev from SALS Data');"
   ]
  },
  {
   "cell_type": "code",
   "execution_count": null,
   "metadata": {},
   "outputs": [],
   "source": [
    "test_samples = odf.sample_wrappednormal(gamma_mean, gamma_sd, np.pi, 100000)\n",
    "fig = plt.figure(figsize=(10, 10))\n",
    "N, bins, patches = plt.hist(test_samples, density=True)\n",
    "plt.plot(theta_pi_span, test_wn);\n",
    "plt.title('Sampled Wrapped Normal vs SALS measured Wrapped Normal');\n",
    "plt.xlabel('Theta');"
   ]
  },
  {
   "cell_type": "markdown",
   "metadata": {},
   "source": [
    "## Test out the Discrete Convolution"
   ]
  },
  {
   "cell_type": "markdown",
   "metadata": {},
   "source": [
    "### Single Fiber"
   ]
  },
  {
   "cell_type": "code",
   "execution_count": null,
   "metadata": {},
   "outputs": [],
   "source": [
    "a0test, a2test, a4test, = 0.3, 0.01, 0.01\n",
    "radThetas = np.linspace(-np.pi / 2, np.pi / 2, 100)\n",
    "testI = odf.IfiberRad(a0test, a2test, a4test, gamma_mean, radThetas)"
   ]
  },
  {
   "cell_type": "code",
   "execution_count": null,
   "metadata": {},
   "outputs": [],
   "source": [
    "fig = plt.figure(figsize=(10, 10))\n",
    "plt.plot(radThetas, testI)\n",
    "plt.title('Test I Single Fiber');"
   ]
  },
  {
   "cell_type": "markdown",
   "metadata": {},
   "source": [
    "### Fiber Distributions"
   ]
  },
  {
   "cell_type": "code",
   "execution_count": null,
   "metadata": {},
   "outputs": [],
   "source": [
    "testIdist = odf.IdistDiscrete(a0test, a2test, a4test, test_samples, radThetas)\n",
    "fig = plt.figure(figsize=(10, 10))\n",
    "plt.plot(radThetas, testI, label='Single Fiber')\n",
    "plt.plot(radThetas, testIdist, label='Fiber Distribution')\n",
    "plt.legend();"
   ]
  },
  {
   "cell_type": "markdown",
   "metadata": {},
   "source": [
    "### Test minimization"
   ]
  },
  {
   "cell_type": "code",
   "execution_count": null,
   "metadata": {},
   "outputs": [],
   "source": [
    "args = (test_samples, radThetas, testIdist)\n",
    "int_x = np.array([0, 0, 0])\n",
    "bounds = ((0, 1), (-1, 1), (0, 1))\n",
    "minfun = odf.minfunDiscrete\n",
    "res = sciopt.minimize(minfun, int_x, args=args, bounds=bounds, method='L-BFGS-B')\n",
    "print('Final values of a0, a2, a4: {}'.format(res.x))\n",
    "print('Synthetic values of a0, a2, a4: {}'.format(np.array([a0test, a2test, a4test])))\n",
    "print('Final residual: {}'.format(res.fun))\n",
    "print('Final optimizer success status: {}'.format(res.success))\n",
    "print('Final optimizer message: {}'.format(res.message))"
   ]
  },
  {
   "cell_type": "markdown",
   "metadata": {},
   "source": [
    "### Plot Test Minimization Results"
   ]
  },
  {
   "cell_type": "code",
   "execution_count": null,
   "metadata": {},
   "outputs": [],
   "source": [
    "fitFiber = odf.IfiberRad(res.x[0], res.x[1], res.x[2], gamma_mean, radThetas)\n",
    "fig = plt.figure(figsize=(10, 10))\n",
    "plt.plot(radThetas, testI, label='Synthetic Single Fiber')\n",
    "plt.plot(radThetas, fitFiber, marker='o', label='Fit Single Fiber')\n",
    "plt.legend();"
   ]
  },
  {
   "cell_type": "markdown",
   "metadata": {},
   "source": [
    "## Fit pSFDI Data"
   ]
  },
  {
   "cell_type": "markdown",
   "metadata": {},
   "source": [
    "### Prep for minimizing"
   ]
  },
  {
   "cell_type": "code",
   "execution_count": null,
   "metadata": {},
   "outputs": [],
   "source": [
    "args = (test_samples, psfdi_theta_pi_span, norm_intensity_pi_span)\n",
    "int_x = np.array([0, 0, 0])  # Good enough to guess all zeros\n",
    "bounds = ((0, 1), (-1, 1), (0, 1))"
   ]
  },
  {
   "cell_type": "markdown",
   "metadata": {},
   "source": [
    "### Minimize and report results"
   ]
  },
  {
   "cell_type": "code",
   "execution_count": null,
   "metadata": {},
   "outputs": [],
   "source": [
    "minfun = odf.minfunDiscrete\n",
    "res = sciopt.minimize(minfun, int_x, args=args, bounds=bounds, method='L-BFGS-B')\n",
    "print('Final values of a0, a2, a4: {}'.format(res.x))\n",
    "print('Final residual: {}'.format(res.fun))\n",
    "print('Final optimizer success status: {}'.format(res.success))\n",
    "print('Final optimizer message: {}'.format(res.message))"
   ]
  },
  {
   "cell_type": "markdown",
   "metadata": {},
   "source": [
    "### Plot resulting fit"
   ]
  },
  {
   "cell_type": "code",
   "execution_count": null,
   "metadata": {},
   "outputs": [],
   "source": [
    "a0_fit_wn = res.x[0]\n",
    "a2_fit_wn = res.x[1]\n",
    "a4_fit_wn = res.x[2]\n",
    "\n",
    "fit_Idist_wn = odf.IdistDiscrete(a0_fit_wn, a2_fit_wn, a4_fit_wn, test_samples, psfdi_theta_pi_span)"
   ]
  },
  {
   "cell_type": "code",
   "execution_count": null,
   "metadata": {},
   "outputs": [],
   "source": [
    "fig = plt.figure(figsize=(10, 10))\n",
    "plt.scatter(psfdi_theta_pi_span, norm_intensity_pi_span, color='g', label='Raw Intensity Data')\n",
    "plt.plot(psfdi_theta_pi_span, fit_Idist_wn, color='k', label='Distribution from Fit Single Fiber Terms');\n",
    "plt.ylim([0.999 * np.min(norm_intensity_pi_span), 1.001 * np.max(norm_intensity_pi_span)]);\n",
    "plt.title('Single Fiber ai terms run through wn vs. Raw Intensity Data');\n",
    "plt.xlabel('Theta');\n",
    "plt.legend();"
   ]
  },
  {
   "cell_type": "markdown",
   "metadata": {},
   "source": [
    "# Extracting Distribution Statistics"
   ]
  },
  {
   "cell_type": "markdown",
   "metadata": {},
   "source": [
    "## Test out Discrete Convolution"
   ]
  },
  {
   "cell_type": "markdown",
   "metadata": {},
   "source": [
    "### Single Fiber"
   ]
  },
  {
   "cell_type": "code",
   "execution_count": null,
   "metadata": {},
   "outputs": [],
   "source": [
    "a0test, a2test, a4test, = 0.3, 0.01, 0.01\n",
    "radThetas = np.linspace(-np.pi / 2, np.pi / 2, 100)\n",
    "testI = odf.IfiberRad(a0test, a2test, a4test, gamma_mean, radThetas)\n",
    "fig = plt.figure(figsize=(10, 10))\n",
    "plt.plot(radThetas, testI)\n",
    "plt.title('Test I Single Fiber');"
   ]
  },
  {
   "cell_type": "markdown",
   "metadata": {},
   "source": [
    "### Fiber Distributions"
   ]
  },
  {
   "cell_type": "code",
   "execution_count": null,
   "metadata": {},
   "outputs": [],
   "source": [
    "testIdist = odf.IdistDiscrete(a0test, a2test, a4test, test_samples, radThetas)\n",
    "fig = plt.figure(figsize=(10, 10))\n",
    "plt.plot(radThetas, testI, label='Single Fiber')\n",
    "plt.plot(radThetas, testIdist, label='Fiber Distribution')\n",
    "plt.legend();"
   ]
  },
  {
   "cell_type": "markdown",
   "metadata": {},
   "source": [
    "### Test minimization"
   ]
  },
  {
   "cell_type": "code",
   "execution_count": null,
   "metadata": {},
   "outputs": [],
   "source": [
    "args = (test_samples, radThetas, testIdist)\n",
    "int_x = np.array([0, 0, 0])\n",
    "bounds = ((0, 1), (-1, 1), (0, 1))\n",
    "minfun = odf.minfunDiscrete\n",
    "res = sciopt.minimize(minfun, int_x, args=args, bounds=bounds, method='L-BFGS-B')\n",
    "print('Final values of a0, a2, a4: {}'.format(res.x))\n",
    "print('Synthetic values of a0, a2, a4: {}'.format(np.array([a0test, a2test, a4test])))\n",
    "print('Final residual: {}'.format(res.fun))\n",
    "print('Final optimizer success status: {}'.format(res.success))\n",
    "print('Final optimizer message: {}'.format(res.message))"
   ]
  }
 ],
 "metadata": {
  "kernelspec": {
   "display_name": "Python (scidev)",
   "language": "python",
   "name": "scidev"
  },
  "language_info": {
   "codemirror_mode": {
    "name": "ipython",
    "version": 3
   },
   "file_extension": ".py",
   "mimetype": "text/x-python",
   "name": "python",
   "nbconvert_exporter": "python",
   "pygments_lexer": "ipython3",
   "version": "3.6.8"
  }
 },
 "nbformat": 4,
 "nbformat_minor": 2
}
