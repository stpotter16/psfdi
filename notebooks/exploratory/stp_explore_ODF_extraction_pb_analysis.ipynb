{
 "cells": [
  {
   "cell_type": "markdown",
   "metadata": {},
   "source": [
    "# Exploring ODF Extraction - BP Data Analysis\n",
    "## Sam Potter\n",
    "## Current: 4/29/19"
   ]
  },
  {
   "cell_type": "markdown",
   "metadata": {},
   "source": [
    "## Path and Imports"
   ]
  },
  {
   "cell_type": "code",
   "execution_count": null,
   "metadata": {
    "scrolled": false
   },
   "outputs": [],
   "source": [
    "import sys\n",
    "import os\n",
    "\n",
    "# psfdi\n",
    "sys.path.extend(['C:\\\\Users\\\\potterst1\\\\Desktop\\Repositories\\Github\\psfdi',\n",
    "                 'C:/Users/potterst1/Desktop/Repositories/Github/psfdi'])\n",
    "sys.path.extend(['/workspace/stpotter/git/bitbucket/psfdi'])\n",
    "\n",
    "from psfdi import visualize\n",
    "from psfdi import fileIO\n",
    "from matplotlib import pyplot as plt\n",
    "import numpy as np\n",
    "from mpl_toolkits.axes_grid1 import make_axes_locatable\n",
    "from matplotlib import patches\n",
    "from matplotlib import rc\n",
    "from psfdi import utilities\n",
    "from psfdi import odf\n",
    "from psfdi import image_processing as imp\n",
    "import seaborn as sns\n",
    "import cv2\n",
    "import matplotlib\n",
    "\n",
    "from ipywidgets import *\n",
    "from scipy import optimize as sciopt\n",
    "from scipy.stats import beta\n",
    "from scipy.stats import sem"
   ]
  },
  {
   "cell_type": "markdown",
   "metadata": {},
   "source": [
    "## Magics"
   ]
  },
  {
   "cell_type": "code",
   "execution_count": null,
   "metadata": {
    "scrolled": false
   },
   "outputs": [],
   "source": [
    "%matplotlib inline"
   ]
  },
  {
   "cell_type": "markdown",
   "metadata": {},
   "source": [
    "# Visualize Axis Confirmation Images"
   ]
  },
  {
   "cell_type": "code",
   "execution_count": null,
   "metadata": {},
   "outputs": [],
   "source": [
    "paper_data_path = 'C:\\\\Users\\\\potterst1\\\\Box Sync\\\\Research\\\\Projects\\\\IGA DIC pSFDI\\\\Experimental Data\\\\2D pSFDI data\\\\ODF Extraction\\\\4.28.19\\\\3) Paper\\\\Sample\\\\Vertical\\\\Green'\n",
    "paper_pic = cv2.imread(os.path.join(paper_data_path, 'planar_angle_0.tiff'), -1)"
   ]
  },
  {
   "cell_type": "code",
   "execution_count": null,
   "metadata": {},
   "outputs": [],
   "source": [
    "fig = plt.figure(figsize=(10, 10))\n",
    "plt.imshow(paper_pic, cmap='gray');"
   ]
  },
  {
   "cell_type": "markdown",
   "metadata": {},
   "source": [
    "# BP Data"
   ]
  },
  {
   "cell_type": "markdown",
   "metadata": {},
   "source": [
    "## Load Raw Intensity pSFDI Data - 360 Degrees"
   ]
  },
  {
   "cell_type": "markdown",
   "metadata": {},
   "source": [
    "### Specify file paths"
   ]
  },
  {
   "cell_type": "code",
   "execution_count": null,
   "metadata": {
    "scrolled": false
   },
   "outputs": [],
   "source": [
    "bp_raw_path = 'C:\\\\Users\\\\potterst1\\\\Box Sync\\\\Research\\\\Projects\\\\IGA DIC pSFDI\\\\Experimental Data\\\\2D pSFDI data\\\\ODF Extraction\\\\4.28.19\\\\2) pSFDI\\\\Sample\\\\Vertical\\\\Green'\n",
    "bp_stanard_path = 'C:\\\\Users\\\\potterst1\\\\Box Sync\\\\Research\\Projects\\\\IGA DIC pSFDI\\\\Experimental Data\\\\2D pSFDI data\\\\ODF Extraction\\\\4.28.19\\\\1) Standard\\\\Standard\\\\Vertical\\\\Green'"
   ]
  },
  {
   "cell_type": "markdown",
   "metadata": {},
   "source": [
    "### Specify spatial frequency and polarizer resolution"
   ]
  },
  {
   "cell_type": "code",
   "execution_count": null,
   "metadata": {
    "scrolled": false
   },
   "outputs": [],
   "source": [
    "sfx_per = 36.4679\n",
    "polar_res = 4\n",
    "polar_max = 360\n",
    "polar_angles = np.arange(0, polar_max, polar_res)\n",
    "\n",
    "bp_planar = [cv2.imread(os.path.join(bp_raw_path, 'planar_angle_' + str(angle) + '.tiff'), -1)for angle in polar_angles]\n",
    "bp_planar = np.array(bp_planar)"
   ]
  },
  {
   "cell_type": "code",
   "execution_count": null,
   "metadata": {},
   "outputs": [],
   "source": [
    "fig = plt.figure(figsize=(10, 10))\n",
    "plt.imshow(bp_planar[0, :, :], cmap='gray');"
   ]
  },
  {
   "cell_type": "markdown",
   "metadata": {},
   "source": [
    "## Load in SALS data"
   ]
  },
  {
   "cell_type": "code",
   "execution_count": null,
   "metadata": {
    "scrolled": false
   },
   "outputs": [],
   "source": [
    "SALS_data_path = 'C:\\\\Users\\\\potterst1\\\\Box Sync\\\\Research\\\\Projects\\\\IGA DIC pSFDI\\\\Experimental Data\\\\2D pSFDI data\\\\ODF Extraction\\\\SALS\\\\BP\\\\Results\\\\BP ODF 042919'\n",
    "\n",
    "SALS_data_dict = fileIO.read_SALS(os.path.join(SALS_data_path, 'SALSA OUT TXT\\\\BP_ODF_42919_SALSA.txt'))"
   ]
  },
  {
   "cell_type": "code",
   "execution_count": null,
   "metadata": {},
   "outputs": [],
   "source": [
    "sals_pd_im = cv2.imread(os.path.join(SALS_data_path, 'Images\\\\BP_ODF_42919_PrefD.png'), -1)\n",
    "sals_pd_im = cv2.cvtColor(sals_pd_im, cv2.COLOR_BGR2RGB)"
   ]
  },
  {
   "cell_type": "code",
   "execution_count": null,
   "metadata": {},
   "outputs": [],
   "source": [
    "fig = plt.figure(figsize=(15, 15))\n",
    "plt.title('SALSA Processed PD')\n",
    "plt.imshow(sals_pd_im);"
   ]
  },
  {
   "cell_type": "code",
   "execution_count": null,
   "metadata": {},
   "outputs": [],
   "source": [
    "x = SALS_data_dict['x']\n",
    "y = SALS_data_dict['y']\n",
    "\n",
    "PD_2d = SALS_data_dict['PD']\n",
    "SD_2d = SALS_data_dict['SD']"
   ]
  },
  {
   "cell_type": "code",
   "execution_count": null,
   "metadata": {},
   "outputs": [],
   "source": [
    "# Why this? What's happening here?\n",
    "PD_2d = np.flip(PD_2d, 0)\n",
    "SD_2d = np.flip(SD_2d, 0)"
   ]
  },
  {
   "cell_type": "code",
   "execution_count": null,
   "metadata": {
    "scrolled": false
   },
   "outputs": [],
   "source": [
    "# SALS PD\n",
    "fig = plt.figure(figsize=(10, 10))\n",
    "im0 = plt.imshow(PD_2d, cmap='hsv')\n",
    "plt.title('SALS PD')\n",
    "ax = plt.gca()\n",
    "divider = make_axes_locatable(ax)\n",
    "cax = divider.append_axes('right', size='5%', pad=0.05)\n",
    "colorlimits = (0, 180);\n",
    "im0.set_clim(colorlimits)\n",
    "plt.colorbar(im0, cax=cax);"
   ]
  },
  {
   "cell_type": "code",
   "execution_count": null,
   "metadata": {
    "scrolled": false
   },
   "outputs": [],
   "source": [
    "# SALS SD\n",
    "fig = plt.figure(figsize=(10, 10))\n",
    "im0 = plt.imshow(SD_2d, cmap='jet')\n",
    "plt.title('SALS SD')\n",
    "ax = plt.gca()\n",
    "divider = make_axes_locatable(ax)\n",
    "cax = divider.append_axes('right', size='5%', pad=0.05)\n",
    "colorlimits = (45, 55);\n",
    "im0.set_clim(colorlimits)\n",
    "plt.colorbar(im0, cax=cax);"
   ]
  },
  {
   "cell_type": "markdown",
   "metadata": {},
   "source": [
    "## Feasibility Study - Raw Data"
   ]
  },
  {
   "cell_type": "markdown",
   "metadata": {},
   "source": [
    "### No extra registration. This isn't completely correct, but okay for now. Can improve by multiplying warp matrix translation by numer of psfdi pixels in SALS pixel as a start."
   ]
  },
  {
   "cell_type": "markdown",
   "metadata": {},
   "source": [
    "## Set the row and column data from visualization etc"
   ]
  },
  {
   "cell_type": "code",
   "execution_count": null,
   "metadata": {},
   "outputs": [],
   "source": [
    "row, col = 300, 425\n",
    "\n",
    "sub_psfdi = np.zeros((7 * 7, len(polar_angles)))\n",
    "sub_row = 0\n",
    "for row in range(row, row + 7):\n",
    "    for col in range(col, col + 7):\n",
    "        temp = bp_planar[:, row, col]\n",
    "        sub_psfdi[sub_row, :] = temp\n",
    "        sub_row += 1\n",
    "\n",
    "sub_psfdi_mean = np.mean(sub_psfdi, axis=0)\n",
    "sub_psfdi_sem = sem(sub_psfdi, axis=0)"
   ]
  },
  {
   "cell_type": "code",
   "execution_count": null,
   "metadata": {},
   "outputs": [],
   "source": [
    "fig, ax = plt.subplots(figsize=(10, 10))\n",
    "plt.imshow(bp_planar[0, :, :], cmap='gray');\n",
    "rect = patches.Rectangle((col, row), 7, 7, edgecolor='r', facecolor='r')\n",
    "ax.add_patch(rect);"
   ]
  },
  {
   "cell_type": "code",
   "execution_count": null,
   "metadata": {},
   "outputs": [],
   "source": [
    "fig = plt.figure(figsize=(10, 10))\n",
    "plt.plot(polar_angles, sub_psfdi_mean);\n",
    "plt.fill_between(polar_angles, sub_psfdi_mean + sub_psfdi_sem, sub_psfdi_mean - sub_psfdi_sem, color='gray', alpha=0.2);\n",
    "plt.xlabel('Theta')\n",
    "plt.ylabel('Intensity [a.u.]')\n",
    "plt.title('Mean pSFDI Signal pm SD over 2 Pi');"
   ]
  },
  {
   "cell_type": "code",
   "execution_count": null,
   "metadata": {},
   "outputs": [],
   "source": [
    "row = 15\n",
    "col = 15\n",
    "ydim = SALS_data_dict['PD'].shape[0]\n",
    "\n",
    "index = col * ydim + (ydim - col)"
   ]
  },
  {
   "cell_type": "code",
   "execution_count": null,
   "metadata": {
    "scrolled": false
   },
   "outputs": [],
   "source": [
    "fig, (ax0, ax1) = plt.subplots(1, 2, figsize=(20, 20))\n",
    "\n",
    "im0 = ax0.imshow(PD_2d, cmap='hsv')\n",
    "divider = make_axes_locatable(ax0)\n",
    "cax0 = divider.append_axes('right', size='5%', pad=0.05)\n",
    "colorlimits = (0, 180);\n",
    "im0.set_clim(colorlimits)\n",
    "fig.colorbar(im0, cax=cax0)\n",
    "rect = patches.Rectangle((col, row), 1, 1, edgecolor='k', facecolor='k')\n",
    "ax0.add_patch(rect)\n",
    "ax0.set_title('SALS PD - Pixel Location in Black');\n",
    "\n",
    "im1 = ax1.imshow(SD_2d, cmap='jet')\n",
    "divider = make_axes_locatable(ax1)\n",
    "cax1 = divider.append_axes('right', size='5%', pad=0.05)\n",
    "colorlimits = (45, 55);\n",
    "im1.set_clim(colorlimits)\n",
    "fig.colorbar(im1, cax=cax1)\n",
    "rect = patches.Rectangle((col, row), 1, 1, edgecolor='k', facecolor='k')\n",
    "ax1.add_patch(rect)\n",
    "ax1.set_title('SALS SD - Pixel Location in Black');"
   ]
  },
  {
   "cell_type": "markdown",
   "metadata": {},
   "source": [
    "## Fourier Series Fit"
   ]
  },
  {
   "cell_type": "markdown",
   "metadata": {},
   "source": [
    "### SALS Data"
   ]
  },
  {
   "cell_type": "code",
   "execution_count": null,
   "metadata": {
    "scrolled": false
   },
   "outputs": [],
   "source": [
    "odf_theta = SALS_data_dict['theta'][index, :]\n",
    "odf_gamma = SALS_data_dict['odf'][index, :]"
   ]
  },
  {
   "cell_type": "code",
   "execution_count": null,
   "metadata": {
    "scrolled": false
   },
   "outputs": [],
   "source": [
    "an, bn, c = odf.fit_fourier(20, odf_gamma, odf_theta)\n",
    "odf_fsfit = odf.compute_fourier(an, bn, c, odf_theta)"
   ]
  },
  {
   "cell_type": "code",
   "execution_count": null,
   "metadata": {
    "scrolled": false
   },
   "outputs": [],
   "source": [
    "fig = plt.figure(figsize=(15, 10))\n",
    "plt.scatter(np.rad2deg(odf_theta), odf_gamma, marker='o', s=10, label='SALS ODF Data')\n",
    "plt.plot(np.rad2deg(odf_theta), odf_fsfit, color='r', label='Fourier Series Fit');\n",
    "plt.ylabel('Gamma');\n",
    "plt.xlabel('Theta');\n",
    "plt.legend()\n",
    "plt.title('SALS ODF Data and Associated Fourer Series Fit');"
   ]
  },
  {
   "cell_type": "code",
   "execution_count": null,
   "metadata": {
    "scrolled": false
   },
   "outputs": [],
   "source": [
    "fig = plt.figure(figsize=(10, 10))\n",
    "plt.polar(odf_theta, odf_fsfit, color='r', label='Fourier Series Fit');\n",
    "plt.scatter(odf_theta, odf_gamma, s=10, label='SALS ODF Data');\n",
    "plt.legend()\n",
    "plt.title('SALS ODF Data and Associated Fourier Series Fit - Polar Plot');"
   ]
  },
  {
   "cell_type": "markdown",
   "metadata": {},
   "source": [
    "## Compute the Primary and Secondary Directions"
   ]
  },
  {
   "cell_type": "code",
   "execution_count": null,
   "metadata": {
    "scrolled": false
   },
   "outputs": [],
   "source": [
    "theta1, theta2 = odf.structural_eigenval_thetas(an[0], bn[0])"
   ]
  },
  {
   "cell_type": "code",
   "execution_count": null,
   "metadata": {
    "scrolled": false
   },
   "outputs": [],
   "source": [
    "print('Theta I (deg): {}'.format(theta1))\n",
    "print('Theta II (deg): {}'.format(theta2))"
   ]
  },
  {
   "cell_type": "code",
   "execution_count": null,
   "metadata": {
    "scrolled": false
   },
   "outputs": [],
   "source": [
    "fig = plt.figure(figsize=(15, 10))\n",
    "plt.scatter(np.rad2deg(odf_theta), odf_gamma, s=10, label='SALS ODF Data');\n",
    "plt.plot(np.rad2deg(odf_theta), odf_fsfit, color='r', label='Fourier Series Fit')\n",
    "plt.plot((theta1 + 180) * np.ones(len(odf_theta)), np.linspace(0.12, 0.20, len(odf_theta)), color='k', label='Theta I')\n",
    "plt.plot(theta2 * np.ones(len(odf_theta)), np.linspace(0.12, 0.20, len(odf_theta)), color='g', label='Theta II')\n",
    "plt.plot((theta2 + 180) * np.ones(len(odf_theta)), np.linspace(0.12, 0.20, len(odf_theta)), color='g', label='Theta II')\n",
    "plt.xlabel('Theta')\n",
    "plt.ylabel('Gamma')\n",
    "plt.legend();\n",
    "plt.title('SALS ODF Data and Associated Fourier Series Fit - Primary Directions from Structural Tensor');"
   ]
  },
  {
   "cell_type": "code",
   "execution_count": null,
   "metadata": {
    "scrolled": false
   },
   "outputs": [],
   "source": [
    "theta1_r = np.deg2rad(theta1)\n",
    "theta2_r = np.deg2rad(theta2)\n",
    "fig = plt.figure(figsize=(10, 10))\n",
    "plt.polar(odf_theta, odf_fsfit, color='r', label='Fourier Series Fit');\n",
    "plt.scatter(odf_theta, odf_gamma, s=10, label='SALS ODF Data');\n",
    "plt.polar([theta1_r, theta1_r + np.pi], [0.20, 0.20], color='k', label='Theta I')\n",
    "plt.polar([theta2_r, theta2_r + np.pi], [0.20, 0.20], color='g', label='Theta II')\n",
    "plt.legend()\n",
    "plt.title('SALS Data and Fourier Series Fit - Primary Directions on Polar Plot');"
   ]
  },
  {
   "cell_type": "code",
   "execution_count": null,
   "metadata": {},
   "outputs": [],
   "source": [
    "fig, (ax0, ax1) = plt.subplots(1, 2, figsize=(15, 15), subplot_kw=dict(projection='polar'))\n",
    "ax0.plot(np.deg2rad(polar_angles), sub_psfdi_mean, linestyle='--', marker='o', color='g',\n",
    "         label='Mean Fiber Intensity');\n",
    "ax0.set_title('Mean pSFDI Raw Fiber Distribution Intensity In SALS Beam ROI - Planar Data');\n",
    "ax0.set_ylim([0.975 * np.min(sub_psfdi_mean), 1.025 * np.max(sub_psfdi_mean)])\n",
    "\n",
    "ax1.plot(odf_theta, odf_gamma, color='r', label='SALS ODF');\n",
    "ax1.set_ylim([0, 0.25])\n",
    "ax1.set_title('SALS ODF');"
   ]
  },
  {
   "cell_type": "code",
   "execution_count": null,
   "metadata": {},
   "outputs": [],
   "source": []
  }
 ],
 "metadata": {
  "kernelspec": {
   "display_name": "Python (scidev)",
   "language": "python",
   "name": "scidev"
  },
  "language_info": {
   "codemirror_mode": {
    "name": "ipython",
    "version": 3
   },
   "file_extension": ".py",
   "mimetype": "text/x-python",
   "name": "python",
   "nbconvert_exporter": "python",
   "pygments_lexer": "ipython3",
   "version": "3.6.7"
  }
 },
 "nbformat": 4,
 "nbformat_minor": 2
}
