{
 "cells": [
  {
   "cell_type": "markdown",
   "metadata": {},
   "source": [
    "# Exploring ODF Extraction - BP Data Analysis\n",
    "## Sam Potter\n",
    "## Current: 5/1/19"
   ]
  },
  {
   "cell_type": "markdown",
   "metadata": {},
   "source": [
    "## Path and Imports"
   ]
  },
  {
   "cell_type": "code",
   "execution_count": null,
   "metadata": {
    "scrolled": false
   },
   "outputs": [],
   "source": [
    "import sys\n",
    "import os\n",
    "\n",
    "# psfdi\n",
    "sys.path.extend(['C:\\\\Users\\\\potterst1\\\\Desktop\\Repositories\\Github\\psfdi',\n",
    "                 'C:/Users/potterst1/Desktop/Repositories/Github/psfdi'])\n",
    "sys.path.extend(['/workspace/stpotter/git/bitbucket/psfdi'])\n",
    "\n",
    "from psfdi import visualize\n",
    "from psfdi import fileIO\n",
    "from matplotlib import pyplot as plt\n",
    "import numpy as np\n",
    "from mpl_toolkits.axes_grid1 import make_axes_locatable\n",
    "from matplotlib import patches\n",
    "from matplotlib import rc\n",
    "from psfdi import utilities\n",
    "from psfdi import odf\n",
    "from psfdi import image_processing as imp\n",
    "import seaborn as sns\n",
    "import cv2\n",
    "import matplotlib\n",
    "\n",
    "from ipywidgets import *\n",
    "from scipy import optimize as sciopt\n",
    "from scipy.stats import beta\n",
    "from scipy.stats import sem\n",
    "from scipy.integrate import trapz"
   ]
  },
  {
   "cell_type": "markdown",
   "metadata": {},
   "source": [
    "## Magics"
   ]
  },
  {
   "cell_type": "code",
   "execution_count": null,
   "metadata": {
    "scrolled": false
   },
   "outputs": [],
   "source": [
    "%matplotlib inline"
   ]
  },
  {
   "cell_type": "markdown",
   "metadata": {},
   "source": [
    "# Visualize Axis Confirmation Images"
   ]
  },
  {
   "cell_type": "code",
   "execution_count": null,
   "metadata": {},
   "outputs": [],
   "source": [
    "paper_data_path = 'C:\\\\Users\\\\potterst1\\\\Box Sync\\\\Research\\\\Projects\\\\IGA DIC pSFDI\\\\Experimental Data\\\\2D pSFDI data\\\\ODF Extraction\\\\4.28.19\\\\3) Paper\\\\Sample\\\\Vertical\\\\Green'\n",
    "paper_pic = cv2.imread(os.path.join(paper_data_path, 'planar_angle_0.tiff'), -1)"
   ]
  },
  {
   "cell_type": "code",
   "execution_count": null,
   "metadata": {},
   "outputs": [],
   "source": [
    "fig = plt.figure(figsize=(10, 10))\n",
    "plt.imshow(paper_pic, cmap='gray');"
   ]
  },
  {
   "cell_type": "markdown",
   "metadata": {},
   "source": [
    "# BP Data"
   ]
  },
  {
   "cell_type": "markdown",
   "metadata": {},
   "source": [
    "## Load Raw Intensity pSFDI Data - 360 Degrees"
   ]
  },
  {
   "cell_type": "markdown",
   "metadata": {},
   "source": [
    "### Specify file paths"
   ]
  },
  {
   "cell_type": "code",
   "execution_count": null,
   "metadata": {
    "scrolled": false
   },
   "outputs": [],
   "source": [
    "bp_raw_path = 'C:\\\\Users\\\\potterst1\\\\Box Sync\\\\Research\\\\Projects\\\\IGA DIC pSFDI\\\\Experimental Data\\\\2D pSFDI data\\\\ODF Extraction\\\\4.28.19\\\\2) pSFDI\\\\Sample\\\\Vertical\\\\Green'\n",
    "bp_standard_path = 'C:\\\\Users\\\\potterst1\\\\Box Sync\\\\Research\\Projects\\\\IGA DIC pSFDI\\\\Experimental Data\\\\2D pSFDI data\\\\ODF Extraction\\\\4.28.19\\\\1) Standard\\\\Standard\\\\Vertical\\\\Green'"
   ]
  },
  {
   "cell_type": "markdown",
   "metadata": {},
   "source": [
    "### Specify spatial frequency and polarizer resolution"
   ]
  },
  {
   "cell_type": "code",
   "execution_count": null,
   "metadata": {
    "scrolled": false
   },
   "outputs": [],
   "source": [
    "sfx_per = 36.4679\n",
    "polar_res = 4\n",
    "polar_max = 360\n",
    "polar_angles = np.arange(0, polar_max, polar_res)\n",
    "\n",
    "bp_planar = [cv2.imread(os.path.join(bp_raw_path, 'planar_angle_' + str(angle) + '.tiff'), -1)for angle in polar_angles]\n",
    "bp_planar = np.array(bp_planar)"
   ]
  },
  {
   "cell_type": "code",
   "execution_count": null,
   "metadata": {},
   "outputs": [],
   "source": [
    "fig = plt.figure(figsize=(10, 10))\n",
    "plt.imshow(bp_planar[0, :, :], cmap='gray');"
   ]
  },
  {
   "cell_type": "markdown",
   "metadata": {},
   "source": [
    "## Crop pSFDI ROI - Doing this manually for now"
   ]
  },
  {
   "cell_type": "code",
   "execution_count": null,
   "metadata": {},
   "outputs": [],
   "source": [
    "rowstart, rowstop = 175, 775  # Best: 175, 775\n",
    "colstart, colstop = 350, 925  # Best: 350, 925\n",
    "\n",
    "bp_planar = bp_planar[:, rowstart:rowstop, colstart:colstop]"
   ]
  },
  {
   "cell_type": "code",
   "execution_count": null,
   "metadata": {},
   "outputs": [],
   "source": [
    "fig = plt.figure(figsize=(10, 10))\n",
    "plt.imshow(bp_planar[0, :, :], cmap='gray');"
   ]
  },
  {
   "cell_type": "markdown",
   "metadata": {},
   "source": [
    "## Load in SALS data"
   ]
  },
  {
   "cell_type": "code",
   "execution_count": null,
   "metadata": {
    "scrolled": false
   },
   "outputs": [],
   "source": [
    "SALS_data_path = 'C:\\\\Users\\\\potterst1\\\\Box Sync\\\\Research\\\\Projects\\\\IGA DIC pSFDI\\\\Experimental Data\\\\2D pSFDI data\\\\ODF Extraction\\\\SALS\\\\BP\\\\Results\\\\BP ODF 042919'\n",
    "\n",
    "SALS_data_dict = fileIO.read_SALS(os.path.join(SALS_data_path, 'SALSA OUT TXT\\\\BP_ODF_42919_SALSA.txt'))"
   ]
  },
  {
   "cell_type": "code",
   "execution_count": null,
   "metadata": {},
   "outputs": [],
   "source": [
    "sals_pd_im = cv2.imread(os.path.join(SALS_data_path, 'Images\\\\BP_ODF_42919_PrefD.png'), -1)\n",
    "sals_pd_im = cv2.cvtColor(sals_pd_im, cv2.COLOR_BGR2RGB)"
   ]
  },
  {
   "cell_type": "code",
   "execution_count": null,
   "metadata": {},
   "outputs": [],
   "source": [
    "fig = plt.figure(figsize=(15, 15))\n",
    "plt.title('SALSA Processed PD')\n",
    "plt.imshow(sals_pd_im);"
   ]
  },
  {
   "cell_type": "code",
   "execution_count": null,
   "metadata": {},
   "outputs": [],
   "source": [
    "x = SALS_data_dict['x']\n",
    "y = SALS_data_dict['y']\n",
    "\n",
    "PD_2d = SALS_data_dict['PD']\n",
    "SD_2d = SALS_data_dict['SD']\n",
    "\n",
    "U = np.cos(np.deg2rad(PD_2d))\n",
    "V = np.sin(np.deg2rad(PD_2d))"
   ]
  },
  {
   "cell_type": "code",
   "execution_count": null,
   "metadata": {
    "scrolled": false
   },
   "outputs": [],
   "source": [
    "# SALS PD\n",
    "fig = plt.figure(figsize=(15, 15))\n",
    "im0 = plt.imshow(PD_2d, cmap='hsv')\n",
    "plt.quiver(U, V, headlength=0, headaxislength=0);\n",
    "plt.title('SALS PD')\n",
    "ax = plt.gca()\n",
    "divider = make_axes_locatable(ax)\n",
    "cax = divider.append_axes('right', size='5%', pad=0.05)\n",
    "colorlimits = (0, 180);\n",
    "im0.set_clim(colorlimits)\n",
    "plt.colorbar(im0, cax=cax);"
   ]
  },
  {
   "cell_type": "code",
   "execution_count": null,
   "metadata": {
    "scrolled": false
   },
   "outputs": [],
   "source": [
    "# SALS SD\n",
    "fig = plt.figure(figsize=(15, 15))\n",
    "im0 = plt.imshow(SD_2d, cmap='jet')\n",
    "plt.title('SALS SD')\n",
    "ax = plt.gca()\n",
    "divider = make_axes_locatable(ax)\n",
    "cax = divider.append_axes('right', size='5%', pad=0.05)\n",
    "colorlimits = (45, 55);\n",
    "im0.set_clim(colorlimits)\n",
    "plt.colorbar(im0, cax=cax);"
   ]
  },
  {
   "cell_type": "markdown",
   "metadata": {},
   "source": [
    "## Register Images"
   ]
  },
  {
   "cell_type": "markdown",
   "metadata": {},
   "source": [
    "### Create pSFDI Binary Mask"
   ]
  },
  {
   "cell_type": "code",
   "execution_count": null,
   "metadata": {},
   "outputs": [],
   "source": [
    "bp_planar_reg = bp_planar[0, :, :]\n",
    "fig = plt.figure(figsize=(10, 10))\n",
    "plt.imshow(bp_planar_reg, cmap='gray')\n",
    "plt.imsave(os.path.join(bp_raw_path, 'cropped_for_mask.png'), bp_planar_reg, cmap='gray')"
   ]
  },
  {
   "cell_type": "markdown",
   "metadata": {},
   "source": [
    "### View Binary Masks before upscaling"
   ]
  },
  {
   "cell_type": "code",
   "execution_count": null,
   "metadata": {},
   "outputs": [],
   "source": [
    "psfdi_mask = cv2.imread(os.path.join(bp_raw_path, 'Mask.tif'), -1)\n",
    "sals_mask = cv2.imread(os.path.join(SALS_data_path, 'BW_Images\\\\BP_ODF_42919.png'), -1)\n",
    "fig, (ax0, ax1) = plt.subplots(1, 2, figsize=(10, 10))\n",
    "im0 = ax0.imshow(psfdi_mask, cmap='gray');\n",
    "ax0.set_title('pSFDI Mask for registration');\n",
    "\n",
    "im1 = ax1.imshow(sals_mask, cmap='gray')\n",
    "ax1.set_title('SALS mask for registration');"
   ]
  },
  {
   "cell_type": "markdown",
   "metadata": {},
   "source": [
    "### Upscale Binary Masks"
   ]
  },
  {
   "cell_type": "code",
   "execution_count": null,
   "metadata": {},
   "outputs": [],
   "source": [
    "psfdi_mask_upscale = imp.upscale(psfdi_mask, *PD_2d.shape)\n",
    "sals_mask_upscale = imp.upscale(sals_mask[:, :, 0], *PD_2d.shape)\n",
    "\n",
    "fig, (ax0, ax1) = plt.subplots(1, 2, figsize=(15, 15))\n",
    "im0 = ax0.imshow(psfdi_mask_upscale, cmap='gray');\n",
    "ax0.set_title('pSFDI Mask for registration - upscaled');\n",
    "\n",
    "im1 = ax1.imshow(sals_mask_upscale, cmap='gray')\n",
    "ax1.set_title('SALS mask for registration- upscaled');"
   ]
  },
  {
   "cell_type": "markdown",
   "metadata": {},
   "source": [
    "### Register"
   ]
  },
  {
   "cell_type": "code",
   "execution_count": null,
   "metadata": {},
   "outputs": [],
   "source": [
    "# Register images\n",
    "psfdi_mask_registered, warp_data = imp.register(psfdi_mask_upscale.astype(np.uint8), sals_mask_upscale.astype(np.uint8))\n",
    "\n",
    "print('cc: {}'.format(warp_data['cc']))\n",
    "print('warp matrix:')\n",
    "print(warp_data['warp'])"
   ]
  },
  {
   "cell_type": "code",
   "execution_count": null,
   "metadata": {},
   "outputs": [],
   "source": [
    "fig, (ax0, ax1) = plt.subplots(1, 2, figsize=(15, 15))\n",
    "im0 = ax0.imshow(psfdi_mask_registered, cmap='gray');\n",
    "ax0.set_title('pSFDI Mask for registration - registered');\n",
    "\n",
    "im1 = ax1.imshow(sals_mask_upscale, cmap='gray')\n",
    "ax1.set_title('SALS mask for registration- registered');"
   ]
  },
  {
   "cell_type": "markdown",
   "metadata": {},
   "source": [
    "### Upscale and Register all the Planar pSFDI Data"
   ]
  },
  {
   "cell_type": "code",
   "execution_count": null,
   "metadata": {},
   "outputs": [],
   "source": [
    "# Upscale\n",
    "bp_planar_upscale = [imp.upscale(bp_planar[angle, :, :], *PD_2d.shape) for angle in range(len(polar_angles))]\n",
    "bp_planar_upscale = np.array(bp_planar_upscale)"
   ]
  },
  {
   "cell_type": "code",
   "execution_count": null,
   "metadata": {},
   "outputs": [],
   "source": [
    "# Register\n",
    "bp_planar_registered = [imp.warp(bp_planar_upscale[angle, :, :], warp_data['warp']) for angle in range(len(polar_angles))]\n",
    "bp_planar_registered = np.array(bp_planar_upscale)"
   ]
  },
  {
   "cell_type": "markdown",
   "metadata": {},
   "source": [
    "## Feasibility Study - Raw Data"
   ]
  },
  {
   "cell_type": "markdown",
   "metadata": {},
   "source": [
    "### Set the row and column data for visualization etc"
   ]
  },
  {
   "cell_type": "code",
   "execution_count": null,
   "metadata": {},
   "outputs": [],
   "source": [
    "row = 15\n",
    "col = 15\n",
    "ydim = SALS_data_dict['PD'].shape[0]\n",
    "\n",
    "index = col * ydim + (ydim - col)"
   ]
  },
  {
   "cell_type": "markdown",
   "metadata": {},
   "source": [
    "### Visualize where the point is"
   ]
  },
  {
   "cell_type": "code",
   "execution_count": null,
   "metadata": {},
   "outputs": [],
   "source": [
    "row_step = int(bp_planar.shape[1] / PD_2d.shape[0])\n",
    "col_step = int(bp_planar.shape[2] / PD_2d.shape[1])\n",
    "\n",
    "# Get the correct rectangle start indices\n",
    "psfdi_row = row * row_step\n",
    "psfdi_col = col * col_step\n",
    "\n",
    "fig, ax = plt.subplots(figsize=(10, 10))\n",
    "plt.imshow(bp_planar[0, :, :], cmap='gray');\n",
    "rect = patches.Rectangle((psfdi_col, psfdi_row), row_step, col_step, edgecolor='r', facecolor='r')\n",
    "ax.add_patch(rect);\n",
    "plt.title('Location of Beam ROI - Shown in Red');"
   ]
  },
  {
   "cell_type": "markdown",
   "metadata": {},
   "source": [
    "### Get SALS data"
   ]
  },
  {
   "cell_type": "code",
   "execution_count": null,
   "metadata": {},
   "outputs": [],
   "source": [
    "odf_theta = SALS_data_dict['theta'][index, :]\n",
    "odf_gamma = SALS_data_dict['odf'][index, :]"
   ]
  },
  {
   "cell_type": "markdown",
   "metadata": {},
   "source": [
    "### Get pSFDI data with roll compensation"
   ]
  },
  {
   "cell_type": "code",
   "execution_count": null,
   "metadata": {},
   "outputs": [],
   "source": [
    "roll = 90 // polar_res\n",
    "\n",
    "bp_data = bp_planar_registered[:, row, col]\n",
    "bp_data = np.roll(bp_data, roll)"
   ]
  },
  {
   "cell_type": "code",
   "execution_count": null,
   "metadata": {},
   "outputs": [],
   "source": [
    "fig, (ax0, ax1) = plt.subplots(1, 2, figsize=(15, 15), subplot_kw=dict(projection='polar'))\n",
    "ax0.plot(np.deg2rad(polar_angles), bp_data, linestyle='--', marker='o', color='g',\n",
    "         label='Mean Fiber Intensity');\n",
    "ax0.set_title('Upscaled pSFDI Raw Intensitym - Roll Compensated');\n",
    "ax0.set_ylim([0.975 * np.min(bp_data), 1.025 * np.max(bp_data)])\n",
    "\n",
    "ax1.plot(odf_theta, odf_gamma, color='r', label='SALS ODF');\n",
    "ax1.set_ylim([0, 0.25])\n",
    "ax1.set_title('SALS ODF');"
   ]
  },
  {
   "cell_type": "markdown",
   "metadata": {},
   "source": [
    "## Fourier Series Fit"
   ]
  },
  {
   "cell_type": "markdown",
   "metadata": {},
   "source": [
    "### SALS Data"
   ]
  },
  {
   "cell_type": "code",
   "execution_count": null,
   "metadata": {
    "scrolled": false
   },
   "outputs": [],
   "source": [
    "odf_theta = SALS_data_dict['theta'][index, :]\n",
    "odf_gamma = SALS_data_dict['odf'][index, :]"
   ]
  },
  {
   "cell_type": "code",
   "execution_count": null,
   "metadata": {
    "scrolled": false
   },
   "outputs": [],
   "source": [
    "an, bn, c = odf.fit_fourier(20, odf_gamma, odf_theta)\n",
    "odf_fsfit = odf.compute_fourier(an, bn, c, odf_theta)"
   ]
  },
  {
   "cell_type": "code",
   "execution_count": null,
   "metadata": {
    "scrolled": false
   },
   "outputs": [],
   "source": [
    "fig = plt.figure(figsize=(15, 10))\n",
    "plt.scatter(np.rad2deg(odf_theta), odf_gamma, marker='o', s=10, label='SALS ODF Data')\n",
    "plt.plot(np.rad2deg(odf_theta), odf_fsfit, color='r', label='Fourier Series Fit');\n",
    "plt.ylabel('Gamma');\n",
    "plt.xlabel('Theta');\n",
    "plt.legend()\n",
    "plt.title('SALS ODF Data and Associated Fourer Series Fit');"
   ]
  },
  {
   "cell_type": "code",
   "execution_count": null,
   "metadata": {
    "scrolled": false
   },
   "outputs": [],
   "source": [
    "fig = plt.figure(figsize=(10, 10))\n",
    "plt.polar(odf_theta, odf_fsfit, color='r', label='Fourier Series Fit');\n",
    "plt.scatter(odf_theta, odf_gamma, s=10, label='SALS ODF Data');\n",
    "plt.legend()\n",
    "plt.title('SALS ODF Data and Associated Fourier Series Fit - Polar Plot');"
   ]
  },
  {
   "cell_type": "markdown",
   "metadata": {},
   "source": [
    "## Compute the Primary and Secondary Directions"
   ]
  },
  {
   "cell_type": "code",
   "execution_count": null,
   "metadata": {
    "scrolled": false
   },
   "outputs": [],
   "source": [
    "theta1, theta2 = odf.structural_eigenval_thetas(an[0], bn[0])"
   ]
  },
  {
   "cell_type": "code",
   "execution_count": null,
   "metadata": {
    "scrolled": false
   },
   "outputs": [],
   "source": [
    "print('Theta I (deg): {}'.format(theta1))\n",
    "print('Theta II (deg): {}'.format(theta2))"
   ]
  },
  {
   "cell_type": "code",
   "execution_count": null,
   "metadata": {
    "scrolled": false
   },
   "outputs": [],
   "source": [
    "fig = plt.figure(figsize=(15, 10))\n",
    "plt.scatter(np.rad2deg(odf_theta), odf_gamma, s=10, label='SALS ODF Data');\n",
    "plt.plot(np.rad2deg(odf_theta), odf_fsfit, color='r', label='Fourier Series Fit')\n",
    "plt.plot((theta1 + 180) * np.ones(len(odf_theta)), np.linspace(0.12, 0.20, len(odf_theta)), color='k', label='Theta I')\n",
    "plt.plot(theta2 * np.ones(len(odf_theta)), np.linspace(0.12, 0.20, len(odf_theta)), color='g', label='Theta II')\n",
    "plt.plot((theta2 + 180) * np.ones(len(odf_theta)), np.linspace(0.12, 0.20, len(odf_theta)), color='g', label='Theta II')\n",
    "plt.xlabel('Theta')\n",
    "plt.ylabel('Gamma')\n",
    "plt.legend();\n",
    "plt.title('SALS ODF Data and Associated Fourier Series Fit - Primary Directions from Structural Tensor');"
   ]
  },
  {
   "cell_type": "code",
   "execution_count": null,
   "metadata": {
    "scrolled": false
   },
   "outputs": [],
   "source": [
    "theta1_r = np.deg2rad(theta1)\n",
    "theta2_r = np.deg2rad(theta2)\n",
    "fig = plt.figure(figsize=(10, 10))\n",
    "plt.polar(odf_theta, odf_fsfit, color='r', label='Fourier Series Fit');\n",
    "plt.scatter(odf_theta, odf_gamma, s=10, label='SALS ODF Data');\n",
    "plt.polar([theta1_r, theta1_r + np.pi], [1.01 * np.max(odf_gamma), 1.01 * np.max(odf_gamma)], color='k', label='Theta I')\n",
    "plt.polar([theta2_r, theta2_r + np.pi], [1.01 * np.max(odf_gamma), 1.01 * np.max(odf_gamma)], color='g', label='Theta II')\n",
    "plt.legend()\n",
    "plt.title('SALS Data and Fourier Series Fit - Primary Directions on Polar Plot');"
   ]
  },
  {
   "cell_type": "code",
   "execution_count": null,
   "metadata": {},
   "outputs": [],
   "source": [
    "fig, (ax0, ax1) = plt.subplots(1, 2, figsize=(15, 15), subplot_kw=dict(projection='polar'))\n",
    "ax0.plot(np.deg2rad(polar_angles), bp_data, linestyle='--', marker='o', color='g',\n",
    "         label='Mean Fiber Intensity');\n",
    "ax0.set_title('Upscaled pSFDI Raw Intensitym - Roll Compensated');\n",
    "ax0.set_ylim([0.975 * np.min(bp_data), 1.025 * np.max(bp_data)])\n",
    "ax0.plot([theta1_r, theta1_r + np.pi], [1.01 * np.max(bp_data), 1.01 * np.max(bp_data)], color='k', label='Theta I')\n",
    "ax0.plot([theta2_r, theta2_r + np.pi], [1.01 * np.max(bp_data), 1.01 * np.max(bp_data)], color='g', label='Theta II')\n",
    "\n",
    "ax1.plot(odf_theta, odf_gamma, color='r', label='SALS ODF');\n",
    "ax1.plot([theta1_r, theta1_r + np.pi], [1.01 * np.max(odf_gamma), 1.01 * np.max(odf_gamma)], color='k', label='Theta I')\n",
    "ax1.plot([theta2_r, theta2_r + np.pi], [1.01 * np.max(odf_gamma), 1.01 * np.max(odf_gamma)], color='g', label='Theta II')\n",
    "ax1.set_ylim([0, 0.25])\n",
    "ax1.set_title('SALS ODF');\n",
    "plt.legend();"
   ]
  },
  {
   "cell_type": "markdown",
   "metadata": {},
   "source": [
    "## Remove Pi-Span"
   ]
  },
  {
   "cell_type": "markdown",
   "metadata": {},
   "source": [
    "### SALS data"
   ]
  },
  {
   "cell_type": "code",
   "execution_count": null,
   "metadata": {},
   "outputs": [],
   "source": [
    "lower = odf_theta > np.deg2rad(theta2) \n",
    "upper = odf_theta < np.deg2rad(theta2 + 180)\n",
    "indices = np.all((lower, upper), axis=0)"
   ]
  },
  {
   "cell_type": "code",
   "execution_count": null,
   "metadata": {},
   "outputs": [],
   "source": [
    "theta_pi_span = odf_theta[indices]\n",
    "# Shift this to 0 deg\n",
    "theta_pi_span = theta_pi_span - np.min(theta_pi_span) * np.ones(len(theta_pi_span))\n",
    "# Shift this to -pi/2\n",
    "theta_pi_span = theta_pi_span - np.pi / 2 * np.ones(len(theta_pi_span))\n",
    "gamma_pi_span = odf_gamma[indices]"
   ]
  },
  {
   "cell_type": "code",
   "execution_count": null,
   "metadata": {},
   "outputs": [],
   "source": [
    "# gamma_pi_span = gamma_pi_span - np.min(gamma_pi_span) * np.ones(len(gamma_pi_span))"
   ]
  },
  {
   "cell_type": "code",
   "execution_count": null,
   "metadata": {
    "scrolled": false
   },
   "outputs": [],
   "source": [
    "fig = plt.figure(figsize=(15, 10))\n",
    "plt.plot(np.rad2deg(theta_pi_span), gamma_pi_span, color='r');\n",
    "plt.title('Pi-Span of SALS ODF');"
   ]
  },
  {
   "cell_type": "code",
   "execution_count": null,
   "metadata": {
    "scrolled": false
   },
   "outputs": [],
   "source": [
    "gamma_area = trapz(gamma_pi_span, theta_pi_span)\n",
    "\n",
    "norm_gamma_pi_span = gamma_pi_span / gamma_area\n",
    "\n",
    "print('Unit Normalized ODF Data Area: {}'.format(trapz(norm_gamma_pi_span, theta_pi_span)))"
   ]
  },
  {
   "cell_type": "code",
   "execution_count": null,
   "metadata": {},
   "outputs": [],
   "source": [
    "fig = plt.figure(figsize=(15, 10))\n",
    "plt.plot(np.rad2deg(theta_pi_span), norm_gamma_pi_span, color='r');\n",
    "plt.title('Pi-Span of SALS ODF - Unit Normalized');"
   ]
  },
  {
   "cell_type": "markdown",
   "metadata": {},
   "source": [
    "### pSFDI Intensity"
   ]
  },
  {
   "cell_type": "code",
   "execution_count": null,
   "metadata": {},
   "outputs": [],
   "source": [
    "lower = polar_angles > theta2 \n",
    "upper = polar_angles < theta2 + 180\n",
    "indices = np.all((lower, upper), axis=0)"
   ]
  },
  {
   "cell_type": "code",
   "execution_count": null,
   "metadata": {},
   "outputs": [],
   "source": [
    "psfdi_theta_pi_span = polar_angles[indices]\n",
    "# Shift this to 0 deg\n",
    "psfdi_theta_pi_span = psfdi_theta_pi_span - np.min(psfdi_theta_pi_span) * np.ones(len(psfdi_theta_pi_span))\n",
    "# Shift this to -pi/2\n",
    "psfdi_theta_pi_span = psfdi_theta_pi_span - 90 * np.ones(len(psfdi_theta_pi_span))\n",
    "intensity_pi_span = bp_data[indices]"
   ]
  },
  {
   "cell_type": "code",
   "execution_count": null,
   "metadata": {},
   "outputs": [],
   "source": [
    "fig = plt.figure(figsize=(15, 10))\n",
    "plt.plot(psfdi_theta_pi_span, intensity_pi_span, linestyle='--', marker='o', color='g');\n",
    "plt.title('Pi-Span of pSFDI Intensity');"
   ]
  },
  {
   "cell_type": "code",
   "execution_count": null,
   "metadata": {},
   "outputs": [],
   "source": [
    "intensity_area = trapz(intensity_pi_span, psfdi_theta_pi_span)\n",
    "\n",
    "norm_intensity_pi_span = intensity_pi_span / intensity_area\n",
    "\n",
    "print('Unit Normalized Intensity Data Area: {}'.format(trapz(norm_intensity_pi_span, psfdi_theta_pi_span)))"
   ]
  },
  {
   "cell_type": "code",
   "execution_count": null,
   "metadata": {},
   "outputs": [],
   "source": [
    "fig = plt.figure(figsize=(15, 10))\n",
    "plt.plot(psfdi_theta_pi_span, norm_intensity_pi_span, linestyle='--', marker='o', color='g');\n",
    "plt.title('Pi-Span of pSFDI Intensity - Unit Normalized');"
   ]
  },
  {
   "cell_type": "markdown",
   "metadata": {},
   "source": [
    "### Compute Mean and SD of SALS Pi-Span"
   ]
  },
  {
   "cell_type": "code",
   "execution_count": null,
   "metadata": {},
   "outputs": [],
   "source": [
    "gamma_mean = trapz(theta_pi_span * gamma_pi_span, theta_pi_span)\n",
    "gamma_var = trapz(gamma_pi_span * np.square(theta_pi_span - np.ones(len(theta_pi_span)) * gamma_mean), theta_pi_span)\n",
    "gamma_sd = np.sqrt(gamma_var)"
   ]
  },
  {
   "cell_type": "code",
   "execution_count": null,
   "metadata": {},
   "outputs": [],
   "source": [
    "print('Mean of Pi-Span (deg): {}'.format(np.rad2deg(gamma_mean)))\n",
    "print('Standard Deviation of Pi-Span (deg): {}'.format(np.rad2deg(gamma_sd)))"
   ]
  },
  {
   "cell_type": "markdown",
   "metadata": {},
   "source": [
    "### Compute beta distribution"
   ]
  },
  {
   "cell_type": "code",
   "execution_count": null,
   "metadata": {},
   "outputs": [],
   "source": [
    "# Compute the beta values\n",
    "sals_beta = odf.compute_beta(gamma_mean, gamma_sd, theta_pi_span)"
   ]
  },
  {
   "cell_type": "code",
   "execution_count": null,
   "metadata": {},
   "outputs": [],
   "source": [
    "fig = plt.figure(figsize=(10, 10))\n",
    "plt.plot(theta_pi_span,sals_beta, color='k', label='Beta Distribution');\n",
    "plt.plot(theta_pi_span, norm_gamma_pi_span, color='r', label='SALS ODF')\n",
    "plt.title('SALS ODF and Beta Distribution');\n",
    "plt.legend();"
   ]
  },
  {
   "cell_type": "markdown",
   "metadata": {},
   "source": [
    "## What's going on here? The SALS ODF has a baseline shift which is why it's flattened out. Should I bring it zero?"
   ]
  },
  {
   "cell_type": "code",
   "execution_count": null,
   "metadata": {},
   "outputs": [],
   "source": []
  }
 ],
 "metadata": {
  "kernelspec": {
   "display_name": "Python (scidev)",
   "language": "python",
   "name": "scidev"
  },
  "language_info": {
   "codemirror_mode": {
    "name": "ipython",
    "version": 3
   },
   "file_extension": ".py",
   "mimetype": "text/x-python",
   "name": "python",
   "nbconvert_exporter": "python",
   "pygments_lexer": "ipython3",
   "version": "3.6.7"
  }
 },
 "nbformat": 4,
 "nbformat_minor": 2
}
