{
 "cells": [
  {
   "cell_type": "markdown",
   "metadata": {},
   "source": [
    "# Exploring ODF Extraction\n",
    "## Sam Potter\n",
    "## Current: 4/10/19"
   ]
  },
  {
   "cell_type": "markdown",
   "metadata": {},
   "source": [
    "## Path and Imports"
   ]
  },
  {
   "cell_type": "code",
   "execution_count": 2,
   "metadata": {},
   "outputs": [],
   "source": [
    "import sys\n",
    "import os\n",
    "\n",
    "sys.path.extend(['C:\\\\Users\\\\potterst1\\\\Desktop\\Repositories\\BitBucket\\psfdi',\n",
    "                 'C:/Users/potterst1/Desktop/Repositories/BitBucket/psfdi'])\n",
    "sys.path.extend(['/workspace/stpotter/git/github/psfdi'])\n",
    "from psfdi import visualize\n",
    "from psfdi import fileIO\n",
    "from matplotlib import pyplot as plt\n",
    "import numpy as np\n",
    "from mpl_toolkits.axes_grid1 import make_axes_locatable\n",
    "from matplotlib import patches\n",
    "from matplotlib import rc\n",
    "from psfdi import utilities\n",
    "from psfdi import odf\n",
    "import seaborn as sns\n",
    "import cv2\n",
    "import matplotlib\n",
    "\n",
    "from ipywidgets import *\n",
    "from scipy import optimize as sciopt"
   ]
  },
  {
   "cell_type": "markdown",
   "metadata": {},
   "source": [
    "## Magics"
   ]
  },
  {
   "cell_type": "code",
   "execution_count": 3,
   "metadata": {},
   "outputs": [],
   "source": [
    "%matplotlib inline"
   ]
  },
  {
   "cell_type": "markdown",
   "metadata": {},
   "source": [
    "## Optical Mathematics"
   ]
  },
  {
   "cell_type": "markdown",
   "metadata": {},
   "source": [
    "### Cylindrical scattering for single fiber"
   ]
  },
  {
   "cell_type": "markdown",
   "metadata": {},
   "source": [
    "$I_{fiber}(\\theta) = a_0 + a_2 \\cos(2(\\theta - \\phi)) + a_4 \\cos(4(\\theta - \\phi))$"
   ]
  },
  {
   "cell_type": "markdown",
   "metadata": {},
   "source": [
    "### Cylindrical scattering for a distribution of fibers"
   ]
  },
  {
   "cell_type": "markdown",
   "metadata": {},
   "source": [
    "$I_{dist}(\\theta) = \\int_{-\\pi/2}^{\\pi/2} I_{fiber}(\\theta) PDF_{dist}(\\theta) d \\theta$\n",
    "\n",
    "NOTE, CONVOLUTION OPERATION IS TREATED AS JUST SUMMATION AND NORMALIZATION IN THE WORK BELOW. CORRECT???"
   ]
  },
  {
   "cell_type": "markdown",
   "metadata": {},
   "source": [
    "## Setup Single Fiber Cosine Series"
   ]
  },
  {
   "cell_type": "markdown",
   "metadata": {},
   "source": [
    "### Definition of single fiber function"
   ]
  },
  {
   "cell_type": "markdown",
   "metadata": {},
   "source": [
    "### Plot a sample intensity function"
   ]
  },
  {
   "cell_type": "code",
   "execution_count": 4,
   "metadata": {},
   "outputs": [
    {
     "data": {
      "application/vnd.jupyter.widget-view+json": {
       "model_id": "847ebb6ab7444935b922ea02cba7bd72",
       "version_major": 2,
       "version_minor": 0
      },
      "text/plain": [
       "interactive(children=(FloatSlider(value=0.0, description='a0', max=1.0), FloatSlider(value=0.025, description=…"
      ]
     },
     "metadata": {},
     "output_type": "display_data"
    }
   ],
   "source": [
    "p = interactive(visualize.Ifiber_interactive, a0=(0, 1, 0.1), a2=(0, 0.05, 0.005), a4=(0, 0.2, 0.02), phi=(-90, 90, 5), theta_min=(-180, 0, 1), theta_max=(0, 180, 1), theta_numpts=(0, 1000, 10))\n",
    "display(p)"
   ]
  },
  {
   "cell_type": "markdown",
   "metadata": {},
   "source": [
    "## Look at Fiber Distributions"
   ]
  },
  {
   "cell_type": "markdown",
   "metadata": {},
   "source": [
    "### Setup Uniform Distribution"
   ]
  },
  {
   "cell_type": "code",
   "execution_count": null,
   "metadata": {},
   "outputs": [],
   "source": [
    "samples = np.random.uniform(-45, 45, 10000)"
   ]
  },
  {
   "cell_type": "code",
   "execution_count": null,
   "metadata": {},
   "outputs": [],
   "source": [
    "plt.hist(samples);"
   ]
  },
  {
   "cell_type": "markdown",
   "metadata": {},
   "source": [
    "### Setup Normal Distribution"
   ]
  },
  {
   "cell_type": "code",
   "execution_count": null,
   "metadata": {},
   "outputs": [],
   "source": [
    "samples = np.random.normal(0, 45, 10000)"
   ]
  },
  {
   "cell_type": "code",
   "execution_count": null,
   "metadata": {},
   "outputs": [],
   "source": [
    "plt.hist(samples);"
   ]
  },
  {
   "cell_type": "markdown",
   "metadata": {},
   "source": [
    "### Setup and generate samples"
   ]
  },
  {
   "cell_type": "code",
   "execution_count": null,
   "metadata": {},
   "outputs": [],
   "source": [
    "p = interactive(visualize.Idistribution_compare_interactive, a0=(0, 1, 0.1), a2=(0, 0.05, 0.005), a4=(0, 0.2, 0.02), phi0=(-90, 90, 5), theta_min=(-180, 0, 1), theta_max=(0, 180, 1), theta_numpts=(0, 1000, 10), splay=(0, 90, 5), nsamples=(10, 10000, 100))\n",
    "display(p)"
   ]
  },
  {
   "cell_type": "markdown",
   "metadata": {},
   "source": [
    "## See if I can fit the new a0, a2, and a4 terms from the Idist"
   ]
  },
  {
   "cell_type": "code",
   "execution_count": null,
   "metadata": {},
   "outputs": [],
   "source": [
    "theta = np.linspace(-180, 180, 100)\n",
    "a0 = 0\n",
    "a2 = 0.0652\n",
    "a4 = 0.2489\n",
    "phi = 0\n",
    "splay = 30\n",
    "nsamples = 10000\n",
    "Isingle_data = odf.Ifiber(a0, a2, a4, phi, theta)\n",
    "Idist_data = odf.syntheticIdist(a0, a2, a4, phi, theta, splay, nsamples, distribution='normal')\n",
    "odf.distribution_minimand(a0, a2, a4, phi, theta, Idist_data)"
   ]
  },
  {
   "cell_type": "code",
   "execution_count": null,
   "metadata": {},
   "outputs": [],
   "source": [
    "# Plot Polar\n",
    "fig = plt.figure(figsize=(15, 15))\n",
    "plt.polar(np.deg2rad(theta), Isingle_data, color='g', label='Mean Fiber Intensity');\n",
    "plt.polar(np.deg2rad(theta), Idist_data, color='r', label='SALS ODF');"
   ]
  },
  {
   "cell_type": "markdown",
   "metadata": {},
   "source": [
    "### Find the distribution terms"
   ]
  },
  {
   "cell_type": "markdown",
   "metadata": {},
   "source": [
    "### Plot the data first"
   ]
  },
  {
   "cell_type": "code",
   "execution_count": null,
   "metadata": {},
   "outputs": [],
   "source": [
    "fig = plt.figure(figsize=(10, 10))\n",
    "plt.plot(theta, Isingle_data, color='g', label='Reference Single Fiber Intensity')\n",
    "plt.plot(theta, Idist_data, color='r', label='Fiber Distribution Intensity');\n",
    "plt.legend(prop={'size': 14}, loc='best');\n",
    "plt.xlabel(r'$\\theta$', fontsize=18);\n",
    "plt.ylabel('Intensity (a.u.)', fontsize=18);\n",
    "plt.ylim(-.5, .5);"
   ]
  },
  {
   "cell_type": "markdown",
   "metadata": {},
   "source": [
    "### Minimize to find the parameter values"
   ]
  },
  {
   "cell_type": "code",
   "execution_count": null,
   "metadata": {},
   "outputs": [],
   "source": [
    "args_tup = (theta, Idist_data)\n",
    "int_x = np.array([.6, 0.025, .15, 0])\n",
    "bounds = ((0, 1), (-1, 1), (0, 1), (-90, 90))\n",
    "res = sciopt.minimize(odf.distribution_minfun, int_x, args=args_tup, bounds=bounds, method='L-BFGS-B', jac='2-point')"
   ]
  },
  {
   "cell_type": "code",
   "execution_count": null,
   "metadata": {},
   "outputs": [],
   "source": [
    "print('Final values of a0, a2, a4, phi: {}'.format(res.x))\n",
    "print('Final residual: {}'.format(res.fun))"
   ]
  },
  {
   "cell_type": "markdown",
   "metadata": {},
   "source": [
    "### Plot fit results"
   ]
  },
  {
   "cell_type": "code",
   "execution_count": null,
   "metadata": {},
   "outputs": [],
   "source": [
    "a0f = res.x[0]\n",
    "a2f = res.x[1]\n",
    "a4f = res.x[2]\n",
    "phif = res.x[3]\n",
    "\n",
    "Ifit = odf.Ifiber(a0f, a2f, a4f, phif, theta)"
   ]
  },
  {
   "cell_type": "code",
   "execution_count": null,
   "metadata": {},
   "outputs": [],
   "source": [
    "theta = np.linspace(-90, 90, 100)\n",
    "fig = plt.figure(figsize=(10, 10))\n",
    "plt.plot(theta, Isingle_data, color='g', label='Reference Single Fiber Intensity')\n",
    "plt.plot(theta, Idist_data, color='r', label='Fiber Distribution Intensity');\n",
    "plt.plot(theta, Ifit, color='k', ls='dashed', label='Fit Distribution Intensity')\n",
    "plt.legend(prop={'size': 14}, loc='best');\n",
    "plt.xlabel(r'$\\theta$', fontsize=18);\n",
    "plt.ylabel('Intensity (a.u.)', fontsize=18);\n",
    "plt.ylim(-.5, .5);\n",
    "print('Single Fiber a2: {}, a4: {} and a2/a4: {}'.format(a2, a4, a2/a4))\n",
    "print('Fit Fiber Distribution a2: {}, a4: {} and a2/a4: {}'.format(a2f, a4f, a2f/a4f))"
   ]
  },
  {
   "cell_type": "markdown",
   "metadata": {},
   "source": [
    "### Fit single fiber ai terms by convolving with SALS SD"
   ]
  },
  {
   "cell_type": "code",
   "execution_count": null,
   "metadata": {},
   "outputs": [],
   "source": [
    "# Functions\n",
    "def sals_syntheticIdist(a0, a2, a4, phi_mean, splay, nsamples, distribution='uniform'):\n",
    "    \n",
    "    ntheta = 100\n",
    "    Idist = np.zeros((nsamples, ntheta))\n",
    "    for i in range(0, nsamples):\n",
    "        if distribution == 'uniform':\n",
    "            phi = np.random.uniform(phi_mean - 1*splay, phi_mean + splay)\n",
    "        elif distribution == 'normal':\n",
    "            phi = np.random.normal(phi_mean, splay)\n",
    "\n",
    "        vals, theta_dist = Ifiber(a0, a2, a4, phi, numpts=ntheta, normalize=False)\n",
    "        Idist[i, :] = vals\n",
    "\n",
    "    Idist = np.sum(Idist, axis=0) / nsamples\n",
    "    #Idist = utilities.normalize_1d(Idist)\n",
    "    \n",
    "    return Idist\n",
    "\n",
    "# minimand for finding single fiber ai from measured SALS sd and measured pSFDI fiber distribution ai\n",
    "def sals_minimand(a0, a2, a4, phi_mean, sigma, psfdi_data):\n",
    "    \n",
    "    synthetic_Idist = sals_syntheticIdist(a0, a2, a4, phi_mean, sigma, 10000, distribution='normal')\n",
    "    \n",
    "    diff = psfdi_data - synthetic_Idist\n",
    "    \n",
    "    diffsq = np.square(diff, diff)\n",
    "    \n",
    "    ssd = np.sum(diffsq)\n",
    "    \n",
    "    return ssd\n",
    "\n",
    "def sals_minfun(params, *args):\n",
    "    \n",
    "    return sals_minimand(params[0], params[1], params[2], params[3], *args)"
   ]
  },
  {
   "cell_type": "markdown",
   "metadata": {},
   "source": [
    "### Try a synthetic example first\n"
   ]
  },
  {
   "cell_type": "code",
   "execution_count": null,
   "metadata": {},
   "outputs": [],
   "source": [
    "# Generate synthetic data\n",
    "a0_s_synth = 0.5\n",
    "a2_s_synth = 0.025\n",
    "a4_s_synth = 0.1\n",
    "phi_s_synth = 0\n",
    "sigma_d_synth = 45\n",
    "\n",
    "synthetic_single_fiber, theta = Ifiber(a0_s_synth, a2_s_synth, a4_s_synth, phi_s_synth, normalize=False) \n",
    "synthetic_measured_distribution = sals_syntheticIdist(a0_s_synth, a2_s_synth, a4_s_synth, phi_s_synth, sigma_d_synth, 10000, distribution='normal')"
   ]
  },
  {
   "cell_type": "code",
   "execution_count": null,
   "metadata": {},
   "outputs": [],
   "source": [
    "# Plot\n",
    "theta = np.linspace(-90, 90, 100)\n",
    "fig = plt.figure(figsize=(10, 10))\n",
    "plt.plot(theta, synthetic_single_fiber, color='g', label='Synthetic Single Fiber Intensity');\n",
    "plt.plot(theta, synthetic_measured_distribution, color='r', label='Synthetic Distribution Intensity');\n",
    "plt.title('Synthetic single fiber and generated synthetic distribution')\n",
    "plt.legend();\n",
    "plt.xlabel('theta')\n",
    "plt.ylabel('Intensity [a.u.]');\n",
    "plt.autoscale(enable=True, axis='x', tight=True)"
   ]
  },
  {
   "cell_type": "code",
   "execution_count": null,
   "metadata": {},
   "outputs": [],
   "source": [
    "# Fit data to get synthetic distribution ai and phi\n",
    "args_tup = (synthetic_measured_distribution)\n",
    "#int_x = np.array([a0_s_synth, a2_s_synth, a4_s_synth, phi_s_synth]) -- Weird local minimums\n",
    "int_x = np.array([0, 0, 0, theta[np.argmax(synthetic_measured_distribution)]])  # Just make it easier and guess all zeros\n",
    "bounds = ((0, 1), (-1, 1), (0, 1), (-90, 90))\n",
    "res = sciopt.minimize(minfun, int_x, args=args_tup, bounds=bounds, method='L-BFGS-B', jac='2-point')\n",
    "\n",
    "print('Final values of a0, a2, a4, phi: {}'.format(res.x))\n",
    "print('Final residual: {}'.format(res.fun))\n",
    "\n",
    "a0_d_synth = res.x[0]\n",
    "a2_d_synth = res.x[1]\n",
    "a4_d_synth = res.x[2]\n",
    "phi_d_synth = res.x[3]\n",
    "\n",
    "fit_distribution, theta = Ifiber(a0_d_synth, a2_d_synth, a4_d_synth, phi_d_synth, normalize=False)"
   ]
  },
  {
   "cell_type": "code",
   "execution_count": null,
   "metadata": {},
   "outputs": [],
   "source": [
    "# Plot the fit data\n",
    "theta = np.linspace(-90, 90, 100)\n",
    "fig = plt.figure(figsize=(10, 10))\n",
    "plt.plot(theta, synthetic_single_fiber, color='g', label='Synthetic Single Fiber Intensity');\n",
    "plt.plot(theta, synthetic_measured_distribution, color='r', label='Synthetic Distribution Intensity');\n",
    "plt.plot(theta, fit_distribution, color='k', ls='dashed', label='Fit Ditribution Intensity');\n",
    "plt.title('Synthetic Single Fiber and Fiber Distribution Along with Fit Fiber Distribution')\n",
    "plt.legend();\n",
    "plt.xlabel('theta');\n",
    "plt.ylabel('Intensity [a.u.]');\n",
    "plt.autoscale(enable=True, axis='x', tight=True)"
   ]
  },
  {
   "cell_type": "markdown",
   "metadata": {},
   "source": [
    "### Try to find terms via gradient based optimization"
   ]
  },
  {
   "cell_type": "code",
   "execution_count": null,
   "metadata": {},
   "outputs": [],
   "source": [
    "args = (sigma_d_synth, synthetic_measured_distribution)\n",
    "int_x = np.array([0, 0, 0, 0])  # Just guess all zeros\n",
    "bounds = ((0, 1), (-1, 1), (0, 1), (-90, 90))\n",
    "res = sciopt.minimize(sals_minfun, int_x, args=args, bounds=bounds, method='L-BFGS-B', jac='2-point')"
   ]
  },
  {
   "cell_type": "code",
   "execution_count": null,
   "metadata": {},
   "outputs": [],
   "source": [
    "print('Final values of a0, a2, a4, phi: {}'.format(res.x))\n",
    "print('Final residual: {}'.format(res.fun))"
   ]
  },
  {
   "cell_type": "code",
   "execution_count": null,
   "metadata": {},
   "outputs": [],
   "source": [
    "a0_s_fit = res.x[0]\n",
    "a2_s_fit = res.x[1]\n",
    "a4_s_fit = res.x[2]\n",
    "phi_s_fit = res.x[3]\n",
    "\n",
    "fit_single, theta = Ifiber(a0_s_fit, a2_s_fit, a4_s_fit, phi_s_fit, normalize=False)"
   ]
  },
  {
   "cell_type": "code",
   "execution_count": null,
   "metadata": {},
   "outputs": [],
   "source": [
    "fig = plt.figure(figsize=(10, 10))\n",
    "plt.plot(theta, synthetic_single_fiber, color='g', label='Synthetic Single Fiber Intensity')\n",
    "plt.plot(theta, fit_single, color='k', ls='dashed', label='Fit Single Fiber Intensity');\n",
    "plt.title('Synthetic Single Fiber vs Fit Single Fiber');\n",
    "plt.xlabel('theta')\n",
    "plt.ylabel('Intensity [a.u.]');\n",
    "plt.legend();\n",
    "plt.autoscale(enable=True, axis='x', tight=True);"
   ]
  },
  {
   "cell_type": "markdown",
   "metadata": {},
   "source": [
    "### Try to find terms via global optimization"
   ]
  },
  {
   "cell_type": "code",
   "execution_count": null,
   "metadata": {},
   "outputs": [],
   "source": [
    "res = sciopt.differential_evolution(sals_minfun, bounds, args=args, maxiter=100)"
   ]
  },
  {
   "cell_type": "code",
   "execution_count": null,
   "metadata": {},
   "outputs": [],
   "source": [
    "print('Final values of a0, a2, a4, phi: {}'.format(res.x))\n",
    "print('Final residual: {}'.format(res.fun))"
   ]
  },
  {
   "cell_type": "code",
   "execution_count": null,
   "metadata": {},
   "outputs": [],
   "source": [
    "# Plot single fiber and measured distribution\n",
    "Isingle, theta = Ifiber(res.x[0], res.x[1], res.x[2], res.x[3], normalize=False)\n",
    "\n",
    "fig = plt.figure(figsize=(10, 10))\n",
    "plt.plot(theta, Isingle, label='Estimated Single Fiber Intensity')\n",
    "plt.plot(theta, ivals, label='Measured Fiber Distribution Intensity');\n",
    "plt.legend();\n",
    "plt.title('Estimated Single Fiber vs Measured Fiber Distribution - Single Fiber a_i Terms from Global Opt')\n",
    "plt.ylabel('Intensity [a.u.]')\n",
    "plt.xlabel('theta')\n",
    "plt.autoscale(enable=True, axis='x', tight=True)"
   ]
  }
 ],
 "metadata": {
  "kernelspec": {
   "display_name": "Python (scidev)",
   "language": "python",
   "name": "scidev"
  },
  "language_info": {
   "codemirror_mode": {
    "name": "ipython",
    "version": 3
   },
   "file_extension": ".py",
   "mimetype": "text/x-python",
   "name": "python",
   "nbconvert_exporter": "python",
   "pygments_lexer": "ipython3",
   "version": "3.6.8"
  }
 },
 "nbformat": 4,
 "nbformat_minor": 2
}
