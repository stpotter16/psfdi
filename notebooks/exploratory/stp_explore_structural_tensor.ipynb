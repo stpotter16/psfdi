{
 "cells": [
  {
   "cell_type": "markdown",
   "metadata": {},
   "source": [
    "# Exploring Structural Tensor Implementation - Method Validation\n",
    "## Sam Potter\n",
    "## Current: 4/10/19"
   ]
  },
  {
   "cell_type": "markdown",
   "metadata": {},
   "source": [
    "## Paths and Imports"
   ]
  },
  {
   "cell_type": "code",
   "execution_count": 1,
   "metadata": {},
   "outputs": [],
   "source": [
    "import sys\n",
    "import os\n",
    "\n",
    "# psfdi\n",
    "sys.path.extend(['C:\\\\Users\\\\potterst1\\\\Desktop\\Repositories\\BitBucket\\psfdi',\n",
    "                 'C:/Users/potterst1/Desktop/Repositories/BitBucket/psfdi'])\n",
    "sys.path.extend(['/workspace/stpotter/git/bitbucket/psfdi'])\n",
    "\n",
    "from psfdi import visualize\n",
    "from psfdi import fileIO\n",
    "from matplotlib import pyplot as plt\n",
    "import numpy as np\n",
    "from mpl_toolkits.axes_grid1 import make_axes_locatable\n",
    "from matplotlib import patches\n",
    "from matplotlib import rc\n",
    "from psfdi import utilities\n",
    "from psfdi import odf\n",
    "from psfdi import image_processing as imp\n",
    "import seaborn as sns\n",
    "import cv2\n",
    "import matplotlib\n",
    "\n",
    "from ipywidgets import *\n",
    "from scipy import optimize as sciopt\n",
    "from scipy.stats import beta\n",
    "from scipy.stats import sem"
   ]
  },
  {
   "cell_type": "markdown",
   "metadata": {},
   "source": [
    "## Magics"
   ]
  },
  {
   "cell_type": "code",
   "execution_count": 2,
   "metadata": {},
   "outputs": [],
   "source": [
    "%matplotlib inline"
   ]
  },
  {
   "cell_type": "markdown",
   "metadata": {},
   "source": [
    "# Synthetic Example"
   ]
  },
  {
   "cell_type": "markdown",
   "metadata": {},
   "source": [
    "## Create Beta Distribution Data"
   ]
  },
  {
   "cell_type": "markdown",
   "metadata": {},
   "source": [
    "### Statistics and theta ranges"
   ]
  },
  {
   "cell_type": "code",
   "execution_count": 42,
   "metadata": {},
   "outputs": [],
   "source": [
    "mean1 = np.deg2rad(5)\n",
    "sd1 = np.deg2rad(10)\n",
    "mean2 = np.deg2rad(25)\n",
    "sd2 = np.deg2rad(30)\n",
    "theta = np.linspace(-np.pi, np.pi, 360)\n",
    "d = 0.5"
   ]
  },
  {
   "cell_type": "code",
   "execution_count": 43,
   "metadata": {},
   "outputs": [],
   "source": [
    "# Adust gamma so it wraps around to the -pi/2 pi/2 interval\n"
   ]
  },
  {
   "cell_type": "markdown",
   "metadata": {},
   "source": [
    "### Beta functions"
   ]
  },
  {
   "cell_type": "code",
   "execution_count": 44,
   "metadata": {},
   "outputs": [],
   "source": [
    "def compute_beta(mean, sd, theta):\n",
    "    \n",
    "    mu = (mean + np.pi / 2) / np.pi\n",
    "\n",
    "    sigma = sd / np.pi\n",
    "\n",
    "    gamma = (mu**2 - mu**3-sigma**2 * mu) / (sigma**2)\n",
    "\n",
    "    delta = gamma * (1 - mu) / mu\n",
    "\n",
    "    y = (theta + np.pi / 2) / np.pi\n",
    "       \n",
    "    vals = beta.pdf(y, gamma, delta) / np.pi\n",
    "    \n",
    "    return vals    "
   ]
  },
  {
   "cell_type": "code",
   "execution_count": 45,
   "metadata": {},
   "outputs": [],
   "source": [
    "def half_gamma(mean1, sd1, mean2, sd2, d, theta):\n",
    "    \n",
    "    gamma1 = compute_beta(mean1, sd1, theta)\n",
    "    gamma2 = compute_beta(mean2, sd2, theta)\n",
    "    \n",
    "    gamma = d * (gamma1 + gamma2) + (1 - d) / np.pi\n",
    "    \n",
    "    return gamma"
   ]
  },
  {
   "cell_type": "code",
   "execution_count": 47,
   "metadata": {},
   "outputs": [],
   "source": [
    "gamma = half_gamma(mean1, sd1, mean2, sd2, d, theta)"
   ]
  }
 ],
 "metadata": {
  "kernelspec": {
   "display_name": "Python (scidev)",
   "language": "python",
   "name": "scidev"
  },
  "language_info": {
   "codemirror_mode": {
    "name": "ipython",
    "version": 3
   },
   "file_extension": ".py",
   "mimetype": "text/x-python",
   "name": "python",
   "nbconvert_exporter": "python",
   "pygments_lexer": "ipython3",
   "version": "3.6.7"
  }
 },
 "nbformat": 4,
 "nbformat_minor": 2
}
