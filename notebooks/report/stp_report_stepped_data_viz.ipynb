{
 "cells": [
  {
   "cell_type": "markdown",
   "metadata": {},
   "source": [
    "# Visualizing pSFDI Data from Stepped Load Tests\n",
    "## Sam Potter\n",
    "## Current: 3/12/19"
   ]
  },
  {
   "cell_type": "markdown",
   "metadata": {},
   "source": [
    "## Path and Imports"
   ]
  },
  {
   "cell_type": "code",
   "execution_count": 11,
   "metadata": {},
   "outputs": [],
   "source": [
    "import sys\n",
    "import os\n",
    "\n",
    "sys.path.extend(['C:\\\\Users\\\\potterst1\\\\Desktop\\Repositories\\BitBucket\\dic',\n",
    "                 'C:/Users/potterst1/Desktop/Repositories/BitBucket/dic'])\n",
    "sys.path.extend(['/workspace/stpotter/git/bitbucket/dic'])\n",
    "from dic import visualize\n",
    "from dic import fileIO\n",
    "from matplotlib import pyplot as plt\n",
    "import numpy as np\n",
    "from mpl_toolkits.axes_grid1 import make_axes_locatable"
   ]
  },
  {
   "cell_type": "markdown",
   "metadata": {},
   "source": [
    "## Magics"
   ]
  },
  {
   "cell_type": "code",
   "execution_count": 12,
   "metadata": {},
   "outputs": [],
   "source": [
    "%matplotlib inline"
   ]
  },
  {
   "cell_type": "markdown",
   "metadata": {},
   "source": [
    "## Get top data directory"
   ]
  },
  {
   "cell_type": "code",
   "execution_count": 13,
   "metadata": {},
   "outputs": [],
   "source": [
    "start = os.getcwd()  # Save current directory for later\n",
    "\n",
    "# Edit this path\n",
    "root_dir = 'C:\\\\Users\\\\potterst1\\\\Box Sync\\\\Research\\\\Projects\\\\IGA DIC pSFDI\\\\Experimental Data\\\\2D pSFDI data\\\\2D Biax Testing\\\\3.8.19\\\\pSFDI Data'\n",
    "\n",
    "os.chdir(root_dir)\n",
    "\n",
    "contents = os.listdir(root_dir)"
   ]
  },
  {
   "cell_type": "code",
   "execution_count": 22,
   "metadata": {
    "scrolled": true
   },
   "outputs": [
    {
     "name": "stdout",
     "output_type": "stream",
     "text": [
      "Directory Contents:\n",
      "['1) Standard - Pre', '2) Mounted', '3) Tared', '4) Post PC Tare', '44) Post Tare', 'Stepped Loading', 'V_pattern.tiff', 'V_ruler.tiff']\n"
     ]
    }
   ],
   "source": [
    "print('Directory Contents:')\n",
    "print(contents)"
   ]
  },
  {
   "cell_type": "code",
   "execution_count": 23,
   "metadata": {},
   "outputs": [],
   "source": [
    "# Setup some variables for latter use\n",
    "standard_dir = '1) Standard - Pre'\n",
    "stepped_top_dir = 'Stepped Loading'"
   ]
  },
  {
   "cell_type": "markdown",
   "metadata": {},
   "source": [
    "## Process Standard and Miscellaneous Images"
   ]
  },
  {
   "cell_type": "markdown",
   "metadata": {},
   "source": [
    "### Standard"
   ]
  },
  {
   "cell_type": "code",
   "execution_count": 24,
   "metadata": {},
   "outputs": [
    {
     "name": "stdout",
     "output_type": "stream",
     "text": [
      "Directory Contents:\n"
     ]
    },
    {
     "data": {
      "text/plain": [
       "['Standard', 'std_V_Green.mat', 'temp']"
      ]
     },
     "execution_count": 24,
     "metadata": {},
     "output_type": "execute_result"
    }
   ],
   "source": [
    "# Move into standard directory and list contents\n",
    "os.chdir(standard_dir)\n",
    "print('Directory Contents:')\n",
    "os.listdir()"
   ]
  },
  {
   "cell_type": "code",
   "execution_count": 25,
   "metadata": {},
   "outputs": [],
   "source": [
    "# Open mat file\n",
    "standard_mat_data = fileIO.read_mat_file('std_V_Green.mat')"
   ]
  },
  {
   "cell_type": "markdown",
   "metadata": {},
   "source": [
    "### Miscellaneous Images"
   ]
  },
  {
   "cell_type": "code",
   "execution_count": 29,
   "metadata": {},
   "outputs": [
    {
     "name": "stdout",
     "output_type": "stream",
     "text": [
      "C:\\Users\\potterst1\\Box Sync\\Research\\Projects\\IGA DIC pSFDI\\Experimental Data\\2D pSFDI data\\2D Biax Testing\\3.8.19\\pSFDI Data\\2) Mounted\n",
      "C:\\Users\\potterst1\\Box Sync\\Research\\Projects\\IGA DIC pSFDI\\Experimental Data\\2D pSFDI data\\2D Biax Testing\\3.8.19\\pSFDI Data\\3) Tared\n",
      "C:\\Users\\potterst1\\Box Sync\\Research\\Projects\\IGA DIC pSFDI\\Experimental Data\\2D pSFDI data\\2D Biax Testing\\3.8.19\\pSFDI Data\\4) Post PC Tare\n",
      "C:\\Users\\potterst1\\Box Sync\\Research\\Projects\\IGA DIC pSFDI\\Experimental Data\\2D pSFDI data\\2D Biax Testing\\3.8.19\\pSFDI Data\\44) Post Tare\n"
     ]
    }
   ],
   "source": [
    "# Move back up to top data directory\n",
    "os.chdir(root_dir)\n",
    "\n",
    "# Loop through other data directories, make sure to skip standard and stepped load\n",
    "\n",
    "for entry in range(0, len(contents)):\n",
    "    if not os.path.isdir(contents[entry]):\n",
    "        continue\n",
    "    elif contents[entry] == standard_dir:\n",
    "        continue\n",
    "    elif contents[entry] == stepped_top_dir:\n",
    "        continue\n",
    "    else:\n",
    "        os.chdir(contents[entry])\n",
    "        print(os.getcwd())\n",
    "        os.chdir(root_dir)"
   ]
  },
  {
   "cell_type": "code",
   "execution_count": 30,
   "metadata": {},
   "outputs": [],
   "source": [
    "os.chdir('3) Tared')"
   ]
  },
  {
   "cell_type": "code",
   "execution_count": 31,
   "metadata": {},
   "outputs": [
    {
     "data": {
      "text/plain": [
       "['data_pre_V_Green.mat', 'Sample', 'temp', 'V_Green']"
      ]
     },
     "execution_count": 31,
     "metadata": {},
     "output_type": "execute_result"
    }
   ],
   "source": [
    "os.listdir()"
   ]
  },
  {
   "cell_type": "code",
   "execution_count": 32,
   "metadata": {},
   "outputs": [],
   "source": [
    "os.chdir('V_Green')"
   ]
  },
  {
   "cell_type": "code",
   "execution_count": 35,
   "metadata": {},
   "outputs": [],
   "source": [
    "temp = fileIO.read_mat_file('data_proc.mat')"
   ]
  },
  {
   "cell_type": "code",
   "execution_count": 37,
   "metadata": {},
   "outputs": [
    {
     "data": {
      "text/plain": [
       "dict_keys(['__header__', '__version__', '__globals__', 'DOA', 'DOA_AC', 'DOA_DC', 'DOA_SUB', 'a0', 'a0_AC', 'a0_DC', 'a0_SUB', 'a2', 'a2_AC', 'a2_DC', 'a2_SUB', 'a4', 'a4_AC', 'a4_DC', 'a4_SUB', 'cmask', 'phi', 'phi_AC', 'phi_DC', 'phi_SUB'])"
      ]
     },
     "execution_count": 37,
     "metadata": {},
     "output_type": "execute_result"
    }
   ],
   "source": [
    "temp.keys()"
   ]
  },
  {
   "cell_type": "code",
   "execution_count": null,
   "metadata": {},
   "outputs": [],
   "source": []
  }
 ],
 "metadata": {
  "kernelspec": {
   "display_name": "Python (scidev)",
   "language": "python",
   "name": "scidev"
  },
  "language_info": {
   "codemirror_mode": {
    "name": "ipython",
    "version": 3
   },
   "file_extension": ".py",
   "mimetype": "text/x-python",
   "name": "python",
   "nbconvert_exporter": "python",
   "pygments_lexer": "ipython3",
   "version": "3.6.7"
  }
 },
 "nbformat": 4,
 "nbformat_minor": 2
}
